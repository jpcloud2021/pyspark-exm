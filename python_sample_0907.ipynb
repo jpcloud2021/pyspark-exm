{
  "nbformat": 4,
  "nbformat_minor": 0,
  "metadata": {
    "colab": {
      "name": "python-sample-0907.ipynb",
      "provenance": [],
      "authorship_tag": "ABX9TyMWu1oxAXdEVvTpo1rV/Uya",
      "include_colab_link": true
    },
    "kernelspec": {
      "name": "python3",
      "display_name": "Python 3"
    },
    "language_info": {
      "name": "python"
    }
  },
  "cells": [
    {
      "cell_type": "markdown",
      "metadata": {
        "id": "view-in-github",
        "colab_type": "text"
      },
      "source": [
        "<a href=\"https://colab.research.google.com/github/jpcloud2021/pyspark-exm/blob/main/python_sample_0907.ipynb\" target=\"_parent\"><img src=\"https://colab.research.google.com/assets/colab-badge.svg\" alt=\"Open In Colab\"/></a>"
      ]
    },
    {
      "cell_type": "code",
      "metadata": {
        "colab": {
          "base_uri": "https://localhost:8080/"
        },
        "id": "87oZv6mNoGDq",
        "outputId": "6f75a491-bda6-4a1e-e367-a2286ba81826"
      },
      "source": [
        "print(\"hello\")\n",
        "\n",
        "age=20\n",
        "age\n",
        "age\n",
        "\n",
        "name =input(\"what is your name ? \")\n",
        "print(\"Hello \" + name)"
      ],
      "execution_count": 5,
      "outputs": [
        {
          "output_type": "stream",
          "text": [
            "hello\n",
            "what is your name ? Jainendra Kumar Pathak\n",
            "Hello Jainendra Kumar Pathak\n"
          ],
          "name": "stdout"
        }
      ]
    },
    {
      "cell_type": "code",
      "metadata": {
        "colab": {
          "base_uri": "https://localhost:8080/"
        },
        "id": "u1r-0RIkqskx",
        "outputId": "d3a9a214-f8fb-40d1-a51f-2243933727b8"
      },
      "source": [
        "#type conversion\n",
        "birth_year = input(\"Enter you birth year :\")\n",
        "age = 2021-int(birth_year) #need to covert into int as its string\n",
        "print(age)"
      ],
      "execution_count": 8,
      "outputs": [
        {
          "output_type": "stream",
          "text": [
            "Enter you birth year :1990\n",
            "31\n"
          ],
          "name": "stdout"
        }
      ]
    },
    {
      "cell_type": "code",
      "metadata": {
        "colab": {
          "base_uri": "https://localhost:8080/"
        },
        "id": "a0tef-WWr9Uj",
        "outputId": "706581c3-39a1-4a2b-b5fd-b64b4d40733d"
      },
      "source": [
        "num1= 10\n",
        "num2= 10.2\n",
        "sum = num1+ num2\n",
        "print(sum)"
      ],
      "execution_count": 10,
      "outputs": [
        {
          "output_type": "stream",
          "text": [
            "20.2\n"
          ],
          "name": "stdout"
        }
      ]
    },
    {
      "cell_type": "code",
      "metadata": {
        "colab": {
          "base_uri": "https://localhost:8080/"
        },
        "id": "5PFxeOzIsZWn",
        "outputId": "7a4fa054-dd49-4062-eefd-5f8874b81be6"
      },
      "source": [
        "#input() - return type is String\n",
        "num1= input(\"first :\")\n",
        "num2= input(\"Second :\")\n",
        "sum = num1+ num2\n",
        "print(sum)"
      ],
      "execution_count": 11,
      "outputs": [
        {
          "output_type": "stream",
          "text": [
            "first :10\n",
            "Second :10.2\n",
            "1010.2\n"
          ],
          "name": "stdout"
        }
      ]
    },
    {
      "cell_type": "code",
      "metadata": {
        "colab": {
          "base_uri": "https://localhost:8080/"
        },
        "id": "1gLkQ947s5S9",
        "outputId": "ed0f546b-04f6-4470-de5b-9faa62b8de68"
      },
      "source": [
        "#input() - return type is String\n",
        "num1= input(\"first :\")\n",
        "num2= input(\"Second :\")\n",
        "sum = float(num1)+ float(num2)\n",
        "print(sum)"
      ],
      "execution_count": 12,
      "outputs": [
        {
          "output_type": "stream",
          "text": [
            "first :10\n",
            "Second :20.33\n",
            "30.33\n"
          ],
          "name": "stdout"
        }
      ]
    },
    {
      "cell_type": "code",
      "metadata": {
        "colab": {
          "base_uri": "https://localhost:8080/"
        },
        "id": "ixqfvqlPs5kk",
        "outputId": "abbd41c6-419a-45e4-f2ac-030dd8026bde"
      },
      "source": [
        "#input() - return type is String\n",
        "num1= input(\"first :\")\n",
        "num2= input(\"Second :\")\n",
        "sum = float(num1)+ float(num2)\n",
        "##2print(\"sum \" +sum) # will give error\n",
        "print(\"sum \" +str(sum))"
      ],
      "execution_count": 15,
      "outputs": [
        {
          "output_type": "stream",
          "text": [
            "first :10\n",
            "Second :.3\n",
            "sum 10.3\n"
          ],
          "name": "stdout"
        }
      ]
    },
    {
      "cell_type": "code",
      "metadata": {
        "id": "ddkUD8F4s5n_"
      },
      "source": [
        ""
      ],
      "execution_count": null,
      "outputs": []
    },
    {
      "cell_type": "code",
      "metadata": {
        "id": "2E0ag_Mts55j"
      },
      "source": [
        ""
      ],
      "execution_count": null,
      "outputs": []
    },
    {
      "cell_type": "code",
      "metadata": {
        "id": "gMKG9W6ts59F"
      },
      "source": [
        ""
      ],
      "execution_count": null,
      "outputs": []
    },
    {
      "cell_type": "code",
      "metadata": {
        "id": "EsZGu2R6sZZ2"
      },
      "source": [
        ""
      ],
      "execution_count": null,
      "outputs": []
    },
    {
      "cell_type": "code",
      "metadata": {
        "id": "2Qr8FfnZsZvv"
      },
      "source": [
        ""
      ],
      "execution_count": null,
      "outputs": []
    },
    {
      "cell_type": "code",
      "metadata": {
        "id": "Oycqw_5nsZzJ"
      },
      "source": [
        ""
      ],
      "execution_count": null,
      "outputs": []
    },
    {
      "cell_type": "code",
      "metadata": {
        "id": "5R5Cq_STqtGk"
      },
      "source": [
        ""
      ],
      "execution_count": null,
      "outputs": []
    },
    {
      "cell_type": "code",
      "metadata": {
        "id": "f34bBAjyqtJ8"
      },
      "source": [
        ""
      ],
      "execution_count": null,
      "outputs": []
    }
  ]
}