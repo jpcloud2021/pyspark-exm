{
  "nbformat": 4,
  "nbformat_minor": 0,
  "metadata": {
    "colab": {
      "name": "python-sample-0907.ipynb",
      "provenance": [],
      "collapsed_sections": [],
      "authorship_tag": "ABX9TyP43dfIdmN+nmzHLBYn9gWx",
      "include_colab_link": true
    },
    "kernelspec": {
      "name": "python3",
      "display_name": "Python 3"
    },
    "language_info": {
      "name": "python"
    }
  },
  "cells": [
    {
      "cell_type": "markdown",
      "metadata": {
        "id": "view-in-github",
        "colab_type": "text"
      },
      "source": [
        "<a href=\"https://colab.research.google.com/github/jpcloud2021/pyspark-exm/blob/main/python_sample_0907.ipynb\" target=\"_parent\"><img src=\"https://colab.research.google.com/assets/colab-badge.svg\" alt=\"Open In Colab\"/></a>"
      ]
    },
    {
      "cell_type": "code",
      "metadata": {
        "colab": {
          "base_uri": "https://localhost:8080/"
        },
        "id": "87oZv6mNoGDq",
        "outputId": "6f75a491-bda6-4a1e-e367-a2286ba81826"
      },
      "source": [
        "print(\"hello\")\n",
        "\n",
        "age=20\n",
        "age\n",
        "age\n",
        "\n",
        "name =input(\"what is your name ? \")\n",
        "print(\"Hello \" + name)"
      ],
      "execution_count": null,
      "outputs": [
        {
          "output_type": "stream",
          "text": [
            "hello\n",
            "what is your name ? Jainendra Kumar Pathak\n",
            "Hello Jainendra Kumar Pathak\n"
          ],
          "name": "stdout"
        }
      ]
    },
    {
      "cell_type": "code",
      "metadata": {
        "colab": {
          "base_uri": "https://localhost:8080/"
        },
        "id": "u1r-0RIkqskx",
        "outputId": "d3a9a214-f8fb-40d1-a51f-2243933727b8"
      },
      "source": [
        "#type conversion\n",
        "birth_year = input(\"Enter you birth year :\")\n",
        "age = 2021-int(birth_year) #need to covert into int as its string\n",
        "print(age)"
      ],
      "execution_count": null,
      "outputs": [
        {
          "output_type": "stream",
          "text": [
            "Enter you birth year :1990\n",
            "31\n"
          ],
          "name": "stdout"
        }
      ]
    },
    {
      "cell_type": "code",
      "metadata": {
        "colab": {
          "base_uri": "https://localhost:8080/"
        },
        "id": "a0tef-WWr9Uj",
        "outputId": "706581c3-39a1-4a2b-b5fd-b64b4d40733d"
      },
      "source": [
        "num1= 10\n",
        "num2= 10.2\n",
        "sum = num1+ num2\n",
        "print(sum)"
      ],
      "execution_count": null,
      "outputs": [
        {
          "output_type": "stream",
          "text": [
            "20.2\n"
          ],
          "name": "stdout"
        }
      ]
    },
    {
      "cell_type": "code",
      "metadata": {
        "colab": {
          "base_uri": "https://localhost:8080/"
        },
        "id": "5PFxeOzIsZWn",
        "outputId": "7a4fa054-dd49-4062-eefd-5f8874b81be6"
      },
      "source": [
        "#input() - return type is String\n",
        "num1= input(\"first :\")\n",
        "num2= input(\"Second :\")\n",
        "sum = num1+ num2\n",
        "print(sum)"
      ],
      "execution_count": null,
      "outputs": [
        {
          "output_type": "stream",
          "text": [
            "first :10\n",
            "Second :10.2\n",
            "1010.2\n"
          ],
          "name": "stdout"
        }
      ]
    },
    {
      "cell_type": "code",
      "metadata": {
        "colab": {
          "base_uri": "https://localhost:8080/"
        },
        "id": "1gLkQ947s5S9",
        "outputId": "ed0f546b-04f6-4470-de5b-9faa62b8de68"
      },
      "source": [
        "#input() - return type is String\n",
        "num1= input(\"first :\")\n",
        "num2= input(\"Second :\")\n",
        "sum = float(num1)+ float(num2)\n",
        "print(sum)"
      ],
      "execution_count": null,
      "outputs": [
        {
          "output_type": "stream",
          "text": [
            "first :10\n",
            "Second :20.33\n",
            "30.33\n"
          ],
          "name": "stdout"
        }
      ]
    },
    {
      "cell_type": "code",
      "metadata": {
        "colab": {
          "base_uri": "https://localhost:8080/"
        },
        "id": "ixqfvqlPs5kk",
        "outputId": "abbd41c6-419a-45e4-f2ac-030dd8026bde"
      },
      "source": [
        "#input() - return type is String\n",
        "num1= input(\"first :\")\n",
        "num2= input(\"Second :\")\n",
        "sum = float(num1)+ float(num2)\n",
        "##2print(\"sum \" +sum) # will give error\n",
        "print(\"sum \" +str(sum))"
      ],
      "execution_count": null,
      "outputs": [
        {
          "output_type": "stream",
          "text": [
            "first :10\n",
            "Second :.3\n",
            "sum 10.3\n"
          ],
          "name": "stdout"
        }
      ]
    },
    {
      "cell_type": "code",
      "metadata": {
        "colab": {
          "base_uri": "https://localhost:8080/"
        },
        "id": "ddkUD8F4s5n_",
        "outputId": "1744e2e7-6ebb-4866-cd1d-3b8d26f21629"
      },
      "source": [
        "course =\"Python tutorial for biginners\"\n",
        "\n",
        "print(course.find('t'))\n",
        "print(course.find('L')) # give -1 becuase L is not present\n",
        "print(course.find('for'))\n",
        "\n",
        "print(course.replace('for','4'))\n",
        "print(course)\n",
        "\n",
        "print(\"for\" in course)"
      ],
      "execution_count": null,
      "outputs": [
        {
          "output_type": "stream",
          "text": [
            "2\n",
            "-1\n",
            "16\n",
            "Python tutorial 4 biginners\n",
            "Python tutorial for biginners\n",
            "True\n"
          ],
          "name": "stdout"
        }
      ]
    },
    {
      "cell_type": "code",
      "metadata": {
        "colab": {
          "base_uri": "https://localhost:8080/"
        },
        "id": "2E0ag_Mts55j",
        "outputId": "7fd878f7-55b1-48a8-871b-3e3a474c7147"
      },
      "source": [
        "#arithmatic operation\n",
        "\n",
        "print(10-3)\n",
        "print(10+3)\n",
        "print(10*3)\n",
        "print(10/3) #will give 3.33333333333\n",
        "print(10//3) #will give 3\n",
        "print(10%3)#reminder\n",
        "print(10**3)#power of 3"
      ],
      "execution_count": null,
      "outputs": [
        {
          "output_type": "stream",
          "text": [
            "7\n",
            "13\n",
            "30\n",
            "3.3333333333333335\n",
            "3\n",
            "1\n",
            "1000\n"
          ],
          "name": "stdout"
        }
      ]
    },
    {
      "cell_type": "code",
      "metadata": {
        "colab": {
          "base_uri": "https://localhost:8080/"
        },
        "id": "gMKG9W6ts59F",
        "outputId": "a0eba530-f692-4493-fa19-42b9f253cc3b"
      },
      "source": [
        "x =10\n",
        "x =x +3\n",
        "print(x)\n",
        "x +=3 #augmented assignmetn same as x=x+3\n",
        "print(x)"
      ],
      "execution_count": null,
      "outputs": [
        {
          "output_type": "stream",
          "text": [
            "13\n",
            "16\n"
          ],
          "name": "stdout"
        }
      ]
    },
    {
      "cell_type": "code",
      "metadata": {
        "id": "EsZGu2R6sZZ2",
        "colab": {
          "base_uri": "https://localhost:8080/"
        },
        "outputId": "4e4f9326-f80c-4982-d516-eabd688c1a75"
      },
      "source": [
        "#operator\n",
        "\n",
        "x =  3==2 #give False as 3!=2\n",
        "print(x)\n",
        "\n",
        "x = 3!=2 #give True as 3!=2\n",
        "print(x)"
      ],
      "execution_count": 2,
      "outputs": [
        {
          "output_type": "stream",
          "text": [
            "False\n",
            "True\n"
          ],
          "name": "stdout"
        }
      ]
    },
    {
      "cell_type": "code",
      "metadata": {
        "colab": {
          "base_uri": "https://localhost:8080/"
        },
        "id": "ZZm-8S7UYXAD",
        "outputId": "3843ce24-8566-4d64-8cef-ee7dfaa07d3d"
      },
      "source": [
        "#logical operator\n",
        "\n",
        "x=25\n",
        "print( x > 10 and x<35) # will print true if both true\n",
        "x=45\n",
        "print( x > 10 or x<35) # will print true if any one true\n",
        "\n",
        "print(not x>10)"
      ],
      "execution_count": 6,
      "outputs": [
        {
          "output_type": "stream",
          "text": [
            "True\n",
            "True\n",
            "False\n"
          ],
          "name": "stdout"
        }
      ]
    },
    {
      "cell_type": "code",
      "metadata": {
        "id": "2Qr8FfnZsZvv",
        "colab": {
          "base_uri": "https://localhost:8080/"
        },
        "outputId": "e5192c0c-fa26-4e3b-edec-2b5a35809824"
      },
      "source": [
        "temp =36\n",
        "\n",
        "if temp <25:\n",
        "  print(\"It's sunny day\")\n",
        "  print(\"it's nice day\")\n",
        "elif x>35:\n",
        "  print(\"more than 25 but less than 35\")\n",
        "  print(\"it's nice elif\")\n",
        "print(\"Always run\")\n",
        "\n"
      ],
      "execution_count": 11,
      "outputs": [
        {
          "output_type": "stream",
          "text": [
            "more than 25 but less than 35\n",
            "it's nice elif\n",
            "Always run\n"
          ],
          "name": "stdout"
        }
      ]
    },
    {
      "cell_type": "code",
      "metadata": {
        "id": "Oycqw_5nsZzJ",
        "colab": {
          "base_uri": "https://localhost:8080/"
        },
        "outputId": "e3fca30a-6ced-4480-e254-c05939ddf283"
      },
      "source": [
        "names = [\"jai\",\"kumar\",\"Pathak\",\"Allan\",\"Murphy\"]\n",
        "names[1]\n",
        "print(names[1])\n",
        "print(names[-1]) #will print last element\n",
        "print(names[-2]) #will print 2nd last element\n",
        "print(names)\n",
        "names[0]=\"Jainendra\"\n",
        "print(names)\n",
        "\n",
        "print(names[0:3]) #will print 3 element"
      ],
      "execution_count": 20,
      "outputs": [
        {
          "output_type": "stream",
          "text": [
            "kumar\n",
            "Murphy\n",
            "Allan\n",
            "['jai', 'kumar', 'Pathak', 'Allan', 'Murphy']\n",
            "['Jainendra', 'kumar', 'Pathak', 'Allan', 'Murphy']\n",
            "['Jainendra', 'kumar', 'Pathak']\n"
          ],
          "name": "stdout"
        }
      ]
    },
    {
      "cell_type": "code",
      "metadata": {
        "colab": {
          "base_uri": "https://localhost:8080/"
        },
        "id": "_o1PEydUdJRE",
        "outputId": "14b3f3d5-46b4-4d48-c77b-e1d42d6fa3f4"
      },
      "source": [
        "numbers =[1,2,3,4,5]\n",
        "print(numbers)\n",
        "numbers.append(7)\n",
        "print(numbers)\n",
        "numbers.insert(5,6)#need to pass index where need to add 6\n",
        "print(numbers)\n",
        "\n",
        "numbers.remove(3)#element want to delete\n",
        "print(numbers)\n",
        "\n",
        "\n",
        "numbers.clear()#clearall element to delete\n",
        "print(numbers)\n"
      ],
      "execution_count": 32,
      "outputs": [
        {
          "output_type": "stream",
          "text": [
            "[1, 2, 3, 4, 5]\n",
            "[1, 2, 3, 4, 5, 7]\n",
            "[1, 2, 3, 4, 5, 6, 7]\n",
            "[1, 2, 4, 5, 6, 7]\n",
            "[]\n"
          ],
          "name": "stdout"
        }
      ]
    },
    {
      "cell_type": "code",
      "metadata": {
        "id": "5R5Cq_STqtGk",
        "colab": {
          "base_uri": "https://localhost:8080/"
        },
        "outputId": "2fb85ae3-2310-44da-a0b2-d0e944a86e31"
      },
      "source": [
        "numbers =[1,2,3,4,5]\n",
        "print(5 in numbers)#if element exist its true else false\n",
        "print(6 in numbers)#if element exist its true else false\n"
      ],
      "execution_count": 34,
      "outputs": [
        {
          "output_type": "stream",
          "text": [
            "True\n",
            "False\n"
          ],
          "name": "stdout"
        }
      ]
    },
    {
      "cell_type": "code",
      "metadata": {
        "id": "f34bBAjyqtJ8",
        "colab": {
          "base_uri": "https://localhost:8080/"
        },
        "outputId": "bea9b437-5a0f-471b-996a-3920555a4394"
      },
      "source": [
        "numbers = [1,2,3,4,5,6,7,8,9]\n",
        "for i in numbers:\n",
        "  print(i)\n"
      ],
      "execution_count": 36,
      "outputs": [
        {
          "output_type": "stream",
          "text": [
            "1\n",
            "2\n",
            "3\n",
            "4\n",
            "5\n",
            "6\n",
            "7\n",
            "8\n",
            "9\n"
          ],
          "name": "stdout"
        }
      ]
    },
    {
      "cell_type": "code",
      "metadata": {
        "colab": {
          "base_uri": "https://localhost:8080/"
        },
        "id": "qbli9UYcfcU-",
        "outputId": "8014d8ab-bcf2-489a-9c69-b8c4a6280cb7"
      },
      "source": [
        "number = range(10)\n",
        "print(number)\n",
        "for i in number:\n",
        "  print(i)"
      ],
      "execution_count": 38,
      "outputs": [
        {
          "output_type": "stream",
          "text": [
            "range(0, 10)\n",
            "0\n",
            "1\n",
            "2\n",
            "3\n",
            "4\n",
            "5\n",
            "6\n",
            "7\n",
            "8\n",
            "9\n"
          ],
          "name": "stdout"
        }
      ]
    },
    {
      "cell_type": "code",
      "metadata": {
        "colab": {
          "base_uri": "https://localhost:8080/"
        },
        "id": "tY1Wjtd0gDsB",
        "outputId": "09827e64-dd70-478a-8435-69d240bbf9cd"
      },
      "source": [
        "number = range(10,20,2)\n",
        "print(number)\n",
        "for i in number:\n",
        "  print(i)"
      ],
      "execution_count": 39,
      "outputs": [
        {
          "output_type": "stream",
          "text": [
            "range(10, 20, 2)\n",
            "10\n",
            "12\n",
            "14\n",
            "16\n",
            "18\n"
          ],
          "name": "stdout"
        }
      ]
    },
    {
      "cell_type": "code",
      "metadata": {
        "colab": {
          "base_uri": "https://localhost:8080/"
        },
        "id": "NniIMzVhfcYR",
        "outputId": "49ebf859-ec7c-43a2-de30-7d54854e65eb"
      },
      "source": [
        "for i in range(10):\n",
        "  print(i)"
      ],
      "execution_count": 40,
      "outputs": [
        {
          "output_type": "stream",
          "text": [
            "0\n",
            "1\n",
            "2\n",
            "3\n",
            "4\n",
            "5\n",
            "6\n",
            "7\n",
            "8\n",
            "9\n"
          ],
          "name": "stdout"
        }
      ]
    },
    {
      "cell_type": "code",
      "metadata": {
        "colab": {
          "base_uri": "https://localhost:8080/",
          "height": 220
        },
        "id": "Xvgsq5GkghVz",
        "outputId": "7a8bb461-76b8-4750-b906-27f56da6ec89"
      },
      "source": [
        "#Tuples\n",
        "numbers1 =(1,2,3,4) # its immutable so we cant change otherwise will give error\n",
        "print(numbers1)\n",
        "numbers1[1]=7"
      ],
      "execution_count": 44,
      "outputs": [
        {
          "output_type": "stream",
          "text": [
            "(1, 2, 3, 4)\n"
          ],
          "name": "stdout"
        },
        {
          "output_type": "error",
          "ename": "TypeError",
          "evalue": "ignored",
          "traceback": [
            "\u001b[0;31m---------------------------------------------------------------------------\u001b[0m",
            "\u001b[0;31mTypeError\u001b[0m                                 Traceback (most recent call last)",
            "\u001b[0;32m<ipython-input-44-36778dcbf244>\u001b[0m in \u001b[0;36m<module>\u001b[0;34m()\u001b[0m\n\u001b[1;32m      2\u001b[0m \u001b[0mnumbers1\u001b[0m \u001b[0;34m=\u001b[0m\u001b[0;34m(\u001b[0m\u001b[0;36m1\u001b[0m\u001b[0;34m,\u001b[0m\u001b[0;36m2\u001b[0m\u001b[0;34m,\u001b[0m\u001b[0;36m3\u001b[0m\u001b[0;34m,\u001b[0m\u001b[0;36m4\u001b[0m\u001b[0;34m)\u001b[0m \u001b[0;31m# its immutable so we cant change otherwise will give error\u001b[0m\u001b[0;34m\u001b[0m\u001b[0;34m\u001b[0m\u001b[0m\n\u001b[1;32m      3\u001b[0m \u001b[0mprint\u001b[0m\u001b[0;34m(\u001b[0m\u001b[0mnumbers1\u001b[0m\u001b[0;34m)\u001b[0m\u001b[0;34m\u001b[0m\u001b[0;34m\u001b[0m\u001b[0m\n\u001b[0;32m----> 4\u001b[0;31m \u001b[0mnumbers1\u001b[0m\u001b[0;34m[\u001b[0m\u001b[0;36m1\u001b[0m\u001b[0;34m]\u001b[0m\u001b[0;34m=\u001b[0m\u001b[0;36m7\u001b[0m\u001b[0;34m\u001b[0m\u001b[0;34m\u001b[0m\u001b[0m\n\u001b[0m",
            "\u001b[0;31mTypeError\u001b[0m: 'tuple' object does not support item assignment"
          ]
        }
      ]
    },
    {
      "cell_type": "code",
      "metadata": {
        "colab": {
          "base_uri": "https://localhost:8080/"
        },
        "id": "uIjLRvjkhKPc",
        "outputId": "ddc80557-1c62-4f65-87af-9f736ca44b1c"
      },
      "source": [
        "numbers1 =(1,2,3,4,3,5,6,7,2,5,7)\n",
        "print(numbers1.count(3))#occurances of 3 i.e 2\n"
      ],
      "execution_count": 46,
      "outputs": [
        {
          "output_type": "stream",
          "text": [
            "2\n"
          ],
          "name": "stdout"
        }
      ]
    },
    {
      "cell_type": "code",
      "metadata": {
        "id": "RCTFdkNlfco1"
      },
      "source": [
        ""
      ],
      "execution_count": null,
      "outputs": []
    }
  ]
}