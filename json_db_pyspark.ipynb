{
  "nbformat": 4,
  "nbformat_minor": 0,
  "metadata": {
    "colab": {
      "name": "json-db-pyspark.ipynb",
      "provenance": [],
      "authorship_tag": "ABX9TyMUUB+XQxMEgnRnC0mKEVxc",
      "include_colab_link": true
    },
    "kernelspec": {
      "name": "python3",
      "display_name": "Python 3"
    },
    "language_info": {
      "name": "python"
    }
  },
  "cells": [
    {
      "cell_type": "markdown",
      "metadata": {
        "id": "view-in-github",
        "colab_type": "text"
      },
      "source": [
        "<a href=\"https://colab.research.google.com/github/jpcloud2021/pyspark-exm/blob/main/json_db_pyspark.ipynb\" target=\"_parent\"><img src=\"https://colab.research.google.com/assets/colab-badge.svg\" alt=\"Open In Colab\"/></a>"
      ]
    },
    {
      "cell_type": "code",
      "metadata": {
        "id": "-EGxse_qO1wJ"
      },
      "source": [
        ""
      ],
      "execution_count": 11,
      "outputs": []
    },
    {
      "cell_type": "code",
      "metadata": {
        "colab": {
          "base_uri": "https://localhost:8080/"
        },
        "id": "lfKqqISdPP53",
        "outputId": "87e09af5-e024-46c9-f8fd-802716706318"
      },
      "source": [
        "!pip install pyspark"
      ],
      "execution_count": 4,
      "outputs": [
        {
          "output_type": "stream",
          "text": [
            "Collecting pyspark\n",
            "\u001b[?25l  Downloading https://files.pythonhosted.org/packages/89/db/e18cfd78e408de957821ec5ca56de1250645b05f8523d169803d8df35a64/pyspark-3.1.2.tar.gz (212.4MB)\n",
            "\u001b[K     |████████████████████████████████| 212.4MB 67kB/s \n",
            "\u001b[?25hCollecting py4j==0.10.9\n",
            "\u001b[?25l  Downloading https://files.pythonhosted.org/packages/9e/b6/6a4fb90cd235dc8e265a6a2067f2a2c99f0d91787f06aca4bcf7c23f3f80/py4j-0.10.9-py2.py3-none-any.whl (198kB)\n",
            "\u001b[K     |████████████████████████████████| 204kB 18.6MB/s \n",
            "\u001b[?25hBuilding wheels for collected packages: pyspark\n",
            "  Building wheel for pyspark (setup.py) ... \u001b[?25l\u001b[?25hdone\n",
            "  Created wheel for pyspark: filename=pyspark-3.1.2-py2.py3-none-any.whl size=212880768 sha256=55387d468d53af12a4293ad6ae41eadf9ed38568508a2d794eeaefa7a03ecbcd\n",
            "  Stored in directory: /root/.cache/pip/wheels/40/1b/2c/30f43be2627857ab80062bef1527c0128f7b4070b6b2d02139\n",
            "Successfully built pyspark\n",
            "Installing collected packages: py4j, pyspark\n",
            "Successfully installed py4j-0.10.9 pyspark-3.1.2\n"
          ],
          "name": "stdout"
        }
      ]
    },
    {
      "cell_type": "code",
      "metadata": {
        "id": "BIEpRboNPI6v"
      },
      "source": [
        "#test_emp.json\n",
        "data=[{\n",
        "   \"data\": {\n",
        "       \"emp_id\": \"12345\",\n",
        "       \"emp_name\": \"Mohan\",\n",
        "       \"awards\": [\n",
        "           {\n",
        "               \"award_type\": \"Internal\",\n",
        "               \"award_name\": \"Best_emp_of_the_year\",\n",
        "               \"year\": \"2000\"\n",
        "           },\n",
        "           {\n",
        "               \"award_type\": \"External\",\n",
        "               \"award_name\": \"Best_presenter\",\n",
        "               \"year\": \"2001\"\n",
        "           }\n",
        "       ]\n",
        "   }\n",
        "}]\n",
        "\n",
        "#main.py\n",
        "from pyspark.sql import SparkSession\n",
        "from pyspark.sql.types import ArrayType, StringType, StructType\n",
        " \n",
        "schema = StructType() \\\n",
        "             .add(\"data\", StructType() \\\n",
        "                   .add(\"emp_id\", StringType(),True) \\\n",
        "                   .add(\"emp_name\", StringType(), True) \\\n",
        "                   .add(\"awards\", ArrayType(StructType()                     \n",
        "                       .add(\"award_type\", StringType(), True) \\\n",
        "                       .add(\"award_name\", StringType(), True))) \\\n",
        "               , True)\n",
        " \n"
      ],
      "execution_count": 14,
      "outputs": []
    },
    {
      "cell_type": "code",
      "metadata": {
        "colab": {
          "base_uri": "https://localhost:8080/"
        },
        "id": "hql_BCDTSzBS",
        "outputId": "875748c3-081e-4d3a-b3c7-a33c7e767076"
      },
      "source": [
        "spark= SparkSession.builder\\\n",
        ".appName(\"MyJsonProcess\")\\\n",
        ".master(\"local[*]\")\\\n",
        ".getOrCreate()\n",
        "\n",
        "spark\n",
        " \n",
        "df1 = spark.createDataFrame(data=data,schema=schema)\n",
        "df1.show(truncate=False)\n",
        "df1.printSchema()"
      ],
      "execution_count": 15,
      "outputs": [
        {
          "output_type": "stream",
          "text": [
            "+------------------------------------------------------------------------------+\n",
            "|data                                                                          |\n",
            "+------------------------------------------------------------------------------+\n",
            "|{12345, Mohan, [{Internal, Best_emp_of_the_year}, {External, Best_presenter}]}|\n",
            "+------------------------------------------------------------------------------+\n",
            "\n",
            "root\n",
            " |-- data: struct (nullable = true)\n",
            " |    |-- emp_id: string (nullable = true)\n",
            " |    |-- emp_name: string (nullable = true)\n",
            " |    |-- awards: array (nullable = true)\n",
            " |    |    |-- element: struct (containsNull = true)\n",
            " |    |    |    |-- award_type: string (nullable = true)\n",
            " |    |    |    |-- award_name: string (nullable = true)\n",
            "\n"
          ],
          "name": "stdout"
        }
      ]
    },
    {
      "cell_type": "code",
      "metadata": {
        "id": "C0FlvL5sWk1j"
      },
      "source": [
        ""
      ],
      "execution_count": null,
      "outputs": []
    },
    {
      "cell_type": "code",
      "metadata": {
        "id": "q2N-f8rOWlEA"
      },
      "source": [
        ""
      ],
      "execution_count": null,
      "outputs": []
    },
    {
      "cell_type": "code",
      "metadata": {
        "id": "Wlox_e3WWlHh"
      },
      "source": [
        ""
      ],
      "execution_count": null,
      "outputs": []
    },
    {
      "cell_type": "code",
      "metadata": {
        "id": "9Wkbh0anWlMR"
      },
      "source": [
        ""
      ],
      "execution_count": null,
      "outputs": []
    },
    {
      "cell_type": "code",
      "metadata": {
        "id": "bWV4vvJWWlO_"
      },
      "source": [
        ""
      ],
      "execution_count": null,
      "outputs": []
    },
    {
      "cell_type": "code",
      "metadata": {
        "id": "6tRMa5QHWlRr"
      },
      "source": [
        ""
      ],
      "execution_count": null,
      "outputs": []
    },
    {
      "cell_type": "code",
      "metadata": {
        "id": "DShYN6YzWlUe"
      },
      "source": [
        ""
      ],
      "execution_count": null,
      "outputs": []
    },
    {
      "cell_type": "code",
      "metadata": {
        "id": "KNL_EmwAWlX8"
      },
      "source": [
        ""
      ],
      "execution_count": null,
      "outputs": []
    }
  ]
}