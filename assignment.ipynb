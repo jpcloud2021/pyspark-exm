{
  "nbformat": 4,
  "nbformat_minor": 0,
  "metadata": {
    "colab": {
      "name": "assignment.ipynb",
      "provenance": [],
      "authorship_tag": "ABX9TyMuW7pOWIDzHm0sDppkZ92i",
      "include_colab_link": true
    },
    "kernelspec": {
      "name": "python3",
      "display_name": "Python 3"
    },
    "language_info": {
      "name": "python"
    }
  },
  "cells": [
    {
      "cell_type": "markdown",
      "metadata": {
        "id": "view-in-github",
        "colab_type": "text"
      },
      "source": [
        "<a href=\"https://colab.research.google.com/github/jpcloud2021/pyspark-exm/blob/main/assignment.ipynb\" target=\"_parent\"><img src=\"https://colab.research.google.com/assets/colab-badge.svg\" alt=\"Open In Colab\"/></a>"
      ]
    },
    {
      "cell_type": "code",
      "metadata": {
        "colab": {
          "base_uri": "https://localhost:8080/"
        },
        "id": "cyeiRpFJQ94-",
        "outputId": "ff99dc10-7173-457f-8582-5d84e3b9c2a9"
      },
      "source": [
        "def solution(s):\n",
        "  c = s[0]\n",
        "  print(s[0])\n",
        "  print(c)\n",
        "  print(type(c))\n",
        "  if (isinstance(c,int) == False) and (c.upper() == c) and (c.isdigit() == False):\n",
        "    return \"upper\"\n",
        "  elif (isinstance(c,int) == False) and (c.lower() == c) and (c.isdigit() == False):\n",
        "    return \"lower\"\n",
        "  elif (isinstance(c,int) == True) or (c.isdigit() == True): \n",
        "    return \"digit\"\n",
        "  else:\n",
        "    return \"other\"\n",
        "#a=input(\"Enter Letter\")\n",
        "print(solution('sd3ed'))"
      ],
      "execution_count": 102,
      "outputs": [
        {
          "output_type": "stream",
          "text": [
            "s\n",
            "s\n",
            "<class 'str'>\n",
            "lower\n"
          ],
          "name": "stdout"
        }
      ]
    }
  ]
}