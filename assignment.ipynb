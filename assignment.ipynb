{
  "nbformat": 4,
  "nbformat_minor": 0,
  "metadata": {
    "colab": {
      "name": "assignment.ipynb",
      "provenance": [],
      "authorship_tag": "ABX9TyPO9Ufohze2LutB8r0xoW0N",
      "include_colab_link": true
    },
    "kernelspec": {
      "name": "python3",
      "display_name": "Python 3"
    },
    "language_info": {
      "name": "python"
    }
  },
  "cells": [
    {
      "cell_type": "markdown",
      "metadata": {
        "id": "view-in-github",
        "colab_type": "text"
      },
      "source": [
        "<a href=\"https://colab.research.google.com/github/jpcloud2021/pyspark-exm/blob/main/assignment.ipynb\" target=\"_parent\"><img src=\"https://colab.research.google.com/assets/colab-badge.svg\" alt=\"Open In Colab\"/></a>"
      ]
    },
    {
      "cell_type": "code",
      "metadata": {
        "colab": {
          "base_uri": "https://localhost:8080/"
        },
        "id": "cyeiRpFJQ94-",
        "outputId": "3c44181e-2356-433c-b436-64d06e977e32"
      },
      "source": [
        "def solution(s):\n",
        "  c = s[0]\n",
        "  print(type(c))\n",
        "  if (isinstance(c,int) == False) and (c.upper() == c):\n",
        "    return \"upper\"\n",
        "  elif (isinstance(c,int) == False) and (c.lower() == c):\n",
        "    return \"lower\"\n",
        "  elif c.isdigit() == True: \n",
        "    return \"digit\"\n",
        "  else:\n",
        "    return \"other\"\n",
        "a=input(\"Enter Letter\")\n",
        "print(solution(a))"
      ],
      "execution_count": 82,
      "outputs": [
        {
          "output_type": "stream",
          "text": [
            "Enter LetterS\n",
            "<class 'str'>\n",
            "upper\n"
          ],
          "name": "stdout"
        }
      ]
    }
  ]
}