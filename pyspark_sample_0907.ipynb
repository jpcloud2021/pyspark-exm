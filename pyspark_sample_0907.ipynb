{
  "nbformat": 4,
  "nbformat_minor": 0,
  "metadata": {
    "colab": {
      "name": "pyspark-sample-0907.ipynb",
      "provenance": [],
      "include_colab_link": true
    },
    "kernelspec": {
      "name": "python3",
      "display_name": "Python 3"
    },
    "language_info": {
      "name": "python"
    }
  },
  "cells": [
    {
      "cell_type": "markdown",
      "metadata": {
        "id": "view-in-github",
        "colab_type": "text"
      },
      "source": [
        "<a href=\"https://colab.research.google.com/github/jpcloud2021/pyspark-exm/blob/main/pyspark_sample_0907.ipynb\" target=\"_parent\"><img src=\"https://colab.research.google.com/assets/colab-badge.svg\" alt=\"Open In Colab\"/></a>"
      ]
    },
    {
      "cell_type": "code",
      "metadata": {
        "colab": {
          "base_uri": "https://localhost:8080/"
        },
        "id": "GCLcAMeIu5cz",
        "outputId": "64aa448a-c5cf-4091-a5d8-d4ba7a18e296"
      },
      "source": [
        "!pip install pyspark\n"
      ],
      "execution_count": 2,
      "outputs": [
        {
          "output_type": "stream",
          "text": [
            "Collecting pyspark\n",
            "\u001b[?25l  Downloading https://files.pythonhosted.org/packages/89/db/e18cfd78e408de957821ec5ca56de1250645b05f8523d169803d8df35a64/pyspark-3.1.2.tar.gz (212.4MB)\n",
            "\u001b[K     |████████████████████████████████| 212.4MB 72kB/s \n",
            "\u001b[?25hCollecting py4j==0.10.9\n",
            "\u001b[?25l  Downloading https://files.pythonhosted.org/packages/9e/b6/6a4fb90cd235dc8e265a6a2067f2a2c99f0d91787f06aca4bcf7c23f3f80/py4j-0.10.9-py2.py3-none-any.whl (198kB)\n",
            "\u001b[K     |████████████████████████████████| 204kB 17.3MB/s \n",
            "\u001b[?25hBuilding wheels for collected packages: pyspark\n",
            "  Building wheel for pyspark (setup.py) ... \u001b[?25l\u001b[?25hdone\n",
            "  Created wheel for pyspark: filename=pyspark-3.1.2-py2.py3-none-any.whl size=212880768 sha256=605a7b8eebb1fd209c262853c6f14bd1602c8b5d8d96abf34b4cd237d2c2add9\n",
            "  Stored in directory: /root/.cache/pip/wheels/40/1b/2c/30f43be2627857ab80062bef1527c0128f7b4070b6b2d02139\n",
            "Successfully built pyspark\n",
            "Installing collected packages: py4j, pyspark\n",
            "Successfully installed py4j-0.10.9 pyspark-3.1.2\n"
          ],
          "name": "stdout"
        }
      ]
    },
    {
      "cell_type": "code",
      "metadata": {
        "colab": {
          "base_uri": "https://localhost:8080/"
        },
        "id": "mlND-6_Jwyui",
        "outputId": "57f12cdb-7a30-4685-b4b0-49a73c80a4fc"
      },
      "source": [
        "list1 = (1,2,3,4)\n",
        "list1\n",
        "list1[2]\n",
        "\n",
        "myDict ={\"1\":\"Bob\",\"2\":\"Cooper\",\"3\":\"John\"}\n",
        "myDict\n",
        "myDict.keys()\n",
        "myDict.values()\n",
        "\n"
      ],
      "execution_count": null,
      "outputs": [
        {
          "output_type": "execute_result",
          "data": {
            "text/plain": [
              "dict_values(['Bob', 'Cooper', 'John'])"
            ]
          },
          "metadata": {
            "tags": []
          },
          "execution_count": 12
        }
      ]
    },
    {
      "cell_type": "code",
      "metadata": {
        "id": "EFh9ksHZzTDX",
        "colab": {
          "base_uri": "https://localhost:8080/",
          "height": 217
        },
        "outputId": "dc7b1a59-5aed-421a-c03b-acf595cb75c8"
      },
      "source": [
        "from pyspark.sql import SparkSession\n",
        "spark= SparkSession.builder\\\n",
        ".appName(\"MyProcess\")\\\n",
        ".master(\"local[*]\")\\\n",
        ".getOrCreate()\n",
        "spark"
      ],
      "execution_count": 3,
      "outputs": [
        {
          "output_type": "execute_result",
          "data": {
            "text/html": [
              "\n",
              "            <div>\n",
              "                <p><b>SparkSession - in-memory</b></p>\n",
              "                \n",
              "        <div>\n",
              "            <p><b>SparkContext</b></p>\n",
              "\n",
              "            <p><a href=\"http://2298c915a439:4040\">Spark UI</a></p>\n",
              "\n",
              "            <dl>\n",
              "              <dt>Version</dt>\n",
              "                <dd><code>v3.1.2</code></dd>\n",
              "              <dt>Master</dt>\n",
              "                <dd><code>local[*]</code></dd>\n",
              "              <dt>AppName</dt>\n",
              "                <dd><code>MyProcess</code></dd>\n",
              "            </dl>\n",
              "        </div>\n",
              "        \n",
              "            </div>\n",
              "        "
            ],
            "text/plain": [
              "<pyspark.sql.session.SparkSession at 0x7f8ae5023fd0>"
            ]
          },
          "metadata": {
            "tags": []
          },
          "execution_count": 3
        }
      ]
    },
    {
      "cell_type": "code",
      "metadata": {
        "id": "kFiLbp5T1I6A"
      },
      "source": [
        "### creating dataframe\n",
        "\n",
        "header =[\"city\",\"type\",\"price\"]\n",
        "\n",
        "data =map(lambda r:(r[0],r[1],float(r[2])),\n",
        "                    map(lambda x:x.split(\",\"),\n",
        "                        [\"Paris,Food,19.0\", \"marsellie,Cloathing,12.0\", \"Paris,Food,8.0\", \"Paris,Cloathing,8.0\"]))\n",
        "df=spark.createDataFrame(data,header)"
      ],
      "execution_count": null,
      "outputs": []
    },
    {
      "cell_type": "code",
      "metadata": {
        "id": "UjuMA4MOuDPO"
      },
      "source": [
        ""
      ],
      "execution_count": null,
      "outputs": []
    },
    {
      "cell_type": "code",
      "metadata": {
        "id": "Nb6sRrlDuDSj"
      },
      "source": [
        ""
      ],
      "execution_count": null,
      "outputs": []
    },
    {
      "cell_type": "code",
      "metadata": {
        "id": "KuYjCcQaDUZe",
        "colab": {
          "base_uri": "https://localhost:8080/"
        },
        "outputId": "393004ea-7662-4f2a-cd93-ab00cb1f7fbd"
      },
      "source": [
        "df.show()"
      ],
      "execution_count": null,
      "outputs": [
        {
          "output_type": "stream",
          "text": [
            "+---------+---------+-----+\n",
            "|     city|     type|price|\n",
            "+---------+---------+-----+\n",
            "|    Paris|     Food| 19.0|\n",
            "|marsellie|Cloathing| 12.0|\n",
            "|    Paris|     Food|  8.0|\n",
            "|    Paris|Cloathing|  8.0|\n",
            "+---------+---------+-----+\n",
            "\n"
          ],
          "name": "stdout"
        }
      ]
    },
    {
      "cell_type": "code",
      "metadata": {
        "colab": {
          "base_uri": "https://localhost:8080/"
        },
        "id": "-fCt3WnruFOO",
        "outputId": "18ee34a2-9f0c-4b3a-b1ef-6d5e41f61a87"
      },
      "source": [
        "from pyspark.sql.types import StringType, FloatType, StructType , StructField\n",
        "\n",
        "data =map(lambda r:(r[0],r[1],float(r[2])),\n",
        "\tmap(lambda x:x.split(\",\"),\n",
        "[\"Paris,Food,19.00\", \n",
        "\"Marsellie,Cloathing,12.00\", \n",
        "\"Paris,Food,8.00\", \n",
        "\"Paris,Cloathing,8.00\",\n",
        "\"Marsellie,Food,20.00\",\n",
        "\"Lyon,Book,18.00\"]))\n",
        "\n",
        "schema = StructType([StructField(\"city\", StringType(), nullable=True),StructField(\"type\", StringType(), nullable=True),StructField(\"price\", FloatType(), nullable=True)])\n",
        "\n",
        "df =spark.createDataFrame(data,schema=schema)\n",
        "df.show()"
      ],
      "execution_count": 6,
      "outputs": [
        {
          "output_type": "stream",
          "text": [
            "+---------+---------+-----+\n",
            "|     city|     type|price|\n",
            "+---------+---------+-----+\n",
            "|    Paris|     Food| 19.0|\n",
            "|Marsellie|Cloathing| 12.0|\n",
            "|    Paris|     Food|  8.0|\n",
            "|    Paris|Cloathing|  8.0|\n",
            "|Marsellie|     Food| 20.0|\n",
            "|     Lyon|     Book| 18.0|\n",
            "+---------+---------+-----+\n",
            "\n"
          ],
          "name": "stdout"
        }
      ]
    },
    {
      "cell_type": "code",
      "metadata": {
        "colab": {
          "base_uri": "https://localhost:8080/"
        },
        "id": "ubPimgL_uNZe",
        "outputId": "ea1241bf-7d07-4222-8a33-e29a5112255a"
      },
      "source": [
        "from pyspark.sql.types import StringType, FloatType, StructType , StructField\n",
        "\n",
        "data =map(lambda r:(r[0],r[1],float(r[2])),\n",
        "\tmap(lambda x:x.split(\",\"),\n",
        "[\"Paris,Food,19.00\", \n",
        "\"Marsellie,Cloathing,12.00\", \n",
        "\"Paris,Food,8.00\", \n",
        "\"Paris,Cloathing,8.00\",\n",
        "\"Marsellie,Food,20.00\",\n",
        "\"Lyon,Book,18.00\"]))\n",
        "\n",
        "schema = StructType([StructField(\"city\", StringType(), nullable=True),StructField(\"type\", StringType(), nullable=True),StructField(\"price\", FloatType(), nullable=True)])\n",
        "\n",
        "df =spark.createDataFrame(data,schema=schema)\n",
        "df.show()"
      ],
      "execution_count": 7,
      "outputs": [
        {
          "output_type": "stream",
          "text": [
            "+---------+---------+-----+\n",
            "|     city|     type|price|\n",
            "+---------+---------+-----+\n",
            "|    Paris|     Food| 19.0|\n",
            "|Marsellie|Cloathing| 12.0|\n",
            "|    Paris|     Food|  8.0|\n",
            "|    Paris|Cloathing|  8.0|\n",
            "|Marsellie|     Food| 20.0|\n",
            "|     Lyon|     Book| 18.0|\n",
            "+---------+---------+-----+\n",
            "\n"
          ],
          "name": "stdout"
        }
      ]
    },
    {
      "cell_type": "code",
      "metadata": {
        "colab": {
          "base_uri": "https://localhost:8080/"
        },
        "id": "gq38vHgTuNdG",
        "outputId": "132922db-e9f3-4fc8-bdf5-52a3788d591d"
      },
      "source": [
        "\n",
        "#manipulating column\n",
        "\n",
        "from pyspark.sql.types import StringType, FloatType, StructType , StructField\n",
        "\n",
        "data =map(lambda r:(r[0],r[1],float(r[2])),\n",
        "\tmap(lambda x:x.split(\",\"),\n",
        "[\"Paris,Food,19.00\", \n",
        "\"Marsellie,Cloathing,12.00\", \n",
        "\"Paris,Food,8.00\", \n",
        "\"Paris,Cloathing,8.00\",\n",
        "\"Marsellie,Food,20.00\",\n",
        "\"Lyon,Book,18.00\"]))\n",
        "\n",
        "schema = StructType([StructField(\"city\", StringType(), nullable=True),StructField(\"type\", StringType(), nullable=True),StructField(\"price\", FloatType(), nullable=True)])\n",
        "\n",
        "df =spark.createDataFrame(data,schema=schema)\n",
        "df.show()\n",
        "\n",
        "df.withColumn(\"abc\", df.price /2).show()"
      ],
      "execution_count": 8,
      "outputs": [
        {
          "output_type": "stream",
          "text": [
            "+---------+---------+-----+\n",
            "|     city|     type|price|\n",
            "+---------+---------+-----+\n",
            "|    Paris|     Food| 19.0|\n",
            "|Marsellie|Cloathing| 12.0|\n",
            "|    Paris|     Food|  8.0|\n",
            "|    Paris|Cloathing|  8.0|\n",
            "|Marsellie|     Food| 20.0|\n",
            "|     Lyon|     Book| 18.0|\n",
            "+---------+---------+-----+\n",
            "\n",
            "+---------+---------+-----+----+\n",
            "|     city|     type|price| abc|\n",
            "+---------+---------+-----+----+\n",
            "|    Paris|     Food| 19.0| 9.5|\n",
            "|Marsellie|Cloathing| 12.0| 6.0|\n",
            "|    Paris|     Food|  8.0| 4.0|\n",
            "|    Paris|Cloathing|  8.0| 4.0|\n",
            "|Marsellie|     Food| 20.0|10.0|\n",
            "|     Lyon|     Book| 18.0| 9.0|\n",
            "+---------+---------+-----+----+\n",
            "\n"
          ],
          "name": "stdout"
        }
      ]
    },
    {
      "cell_type": "code",
      "metadata": {
        "colab": {
          "base_uri": "https://localhost:8080/"
        },
        "id": "fPCmjBCDuNgZ",
        "outputId": "272eb623-402d-4c13-9a87-704d577e2fb8"
      },
      "source": [
        "from pyspark.sql.functions import cos\n",
        "\n",
        "df = spark.createDataFrame([[1, 2],[2, 3],[3, 4],[4, 5]], schema=[\"x1\",\"x2\"])\n",
        "\n",
        "df.withColumn(\"cos_sum\", cos(df.x1 +df.x2)).show()"
      ],
      "execution_count": 9,
      "outputs": [
        {
          "output_type": "stream",
          "text": [
            "+---+---+-------------------+\n",
            "| x1| x2|            cos_sum|\n",
            "+---+---+-------------------+\n",
            "|  1|  2|-0.9899924966004454|\n",
            "|  2|  3|0.28366218546322625|\n",
            "|  3|  4| 0.7539022543433046|\n",
            "|  4|  5|-0.9111302618846769|\n",
            "+---+---+-------------------+\n",
            "\n"
          ],
          "name": "stdout"
        }
      ]
    },
    {
      "cell_type": "code",
      "metadata": {
        "colab": {
          "base_uri": "https://localhost:8080/"
        },
        "id": "5ylYIEUYuNkH",
        "outputId": "c31e6373-073d-4cfa-f707-da0c09fcc400"
      },
      "source": [
        "simpleData =[(\"James\",\"Sales\",\"NY\",90000,34,10000),\n",
        "(\"Michael\",\"Sales\",\"NY\",86000,56,20000),\n",
        "(\"Robert\",\"Sales\",\"CA\",81000,30,23000),\n",
        "(\"Maria\",\"Finance\",\"CA\",90000,24,23000),\n",
        "(\"Raman\",\"Finance\",\"CA\",99000,40,24000),\n",
        "(\"Scott\",\"Finance\",\"NY\",83000,36,19000),\n",
        "(\"Jen\",\"Finance\",\"NY\",79000,53,15000),\n",
        "(\"Jeff\",\"Marketing\",\"CA\",80000,25,18000),\n",
        "(\"Kumar\",\"Marketing\",\"NY\",91000,50,21000),\n",
        "(\"john\",\"Marketing\",\"NY\",93000,37,19000),\n",
        "(\"Eliz\",\"Admin\",\"NY\",910000,43,17000)]\n",
        "\n",
        "\n",
        "schema=[\"employee_name\",\"department\",\"state\",\"salary\",\"age\",\"bonus\"]\n",
        "\n",
        "df=spark.createDataFrame(data=simpleData, schema=schema)\n",
        "df.printSchema()\n",
        "df.show(truncate=False)"
      ],
      "execution_count": 58,
      "outputs": [
        {
          "output_type": "stream",
          "text": [
            "root\n",
            " |-- employee_name: string (nullable = true)\n",
            " |-- department: string (nullable = true)\n",
            " |-- state: string (nullable = true)\n",
            " |-- salary: long (nullable = true)\n",
            " |-- age: long (nullable = true)\n",
            " |-- bonus: long (nullable = true)\n",
            "\n",
            "+-------------+----------+-----+------+---+-----+\n",
            "|employee_name|department|state|salary|age|bonus|\n",
            "+-------------+----------+-----+------+---+-----+\n",
            "|James        |Sales     |NY   |90000 |34 |10000|\n",
            "|Michael      |Sales     |NY   |86000 |56 |20000|\n",
            "|Robert       |Sales     |CA   |81000 |30 |23000|\n",
            "|Maria        |Finance   |CA   |90000 |24 |23000|\n",
            "|Raman        |Finance   |CA   |99000 |40 |24000|\n",
            "|Scott        |Finance   |NY   |83000 |36 |19000|\n",
            "|Jen          |Finance   |NY   |79000 |53 |15000|\n",
            "|Jeff         |Marketing |CA   |80000 |25 |18000|\n",
            "|Kumar        |Marketing |NY   |91000 |50 |21000|\n",
            "|john         |Marketing |NY   |93000 |37 |19000|\n",
            "|Eliz         |Admin     |NY   |910000|43 |17000|\n",
            "+-------------+----------+-----+------+---+-----+\n",
            "\n"
          ],
          "name": "stdout"
        }
      ]
    },
    {
      "cell_type": "code",
      "metadata": {
        "colab": {
          "base_uri": "https://localhost:8080/"
        },
        "id": "61ZIT-5CuNnZ",
        "outputId": "85075413-0a78-4e15-eedc-ffc647aa30d4"
      },
      "source": [
        "df.show()"
      ],
      "execution_count": 14,
      "outputs": [
        {
          "output_type": "stream",
          "text": [
            "+-------------+----------+-----+------+---+-----+\n",
            "|employee_name|department|state|salary|age|bonus|\n",
            "+-------------+----------+-----+------+---+-----+\n",
            "|        James|     Sales|   NY| 90000| 34|10000|\n",
            "|      Michael|     Sales|   NY| 86000| 56|20000|\n",
            "|       Robert|     Sales|   CA| 81000| 30|23000|\n",
            "|        Maria|   Finance|   CA| 90000| 24|23000|\n",
            "|        Raman|   Finance|   CA| 99000| 40|24000|\n",
            "|        Scott|   Finance|   NY| 83000| 36|19000|\n",
            "|          Jen|   Finance|   NY| 79000| 53|15000|\n",
            "|         Jeff| Marketing|   CA| 80000| 25|18000|\n",
            "|        Kumar| Marketing|   NY| 91000| 50|21000|\n",
            "|         john| Marketing|   NY| 93000| 37|19000|\n",
            "|         Eliz|     Admin|   NY|910000| 43|17000|\n",
            "+-------------+----------+-----+------+---+-----+\n",
            "\n"
          ],
          "name": "stdout"
        }
      ]
    },
    {
      "cell_type": "code",
      "metadata": {
        "colab": {
          "base_uri": "https://localhost:8080/"
        },
        "id": "Oxj20y1huNqF",
        "outputId": "fbe7dade-bc23-495c-b924-82787140e188"
      },
      "source": [
        "df.groupBy(\"department\").sum(\"salary\").show()"
      ],
      "execution_count": 19,
      "outputs": [
        {
          "output_type": "stream",
          "text": [
            "+----------+-----------+\n",
            "|department|sum(salary)|\n",
            "+----------+-----------+\n",
            "|     Sales|     257000|\n",
            "|   Finance|     351000|\n",
            "|     Admin|     910000|\n",
            "| Marketing|     264000|\n",
            "+----------+-----------+\n",
            "\n"
          ],
          "name": "stdout"
        }
      ]
    },
    {
      "cell_type": "code",
      "metadata": {
        "colab": {
          "base_uri": "https://localhost:8080/"
        },
        "id": "7WPT5BEKuNtf",
        "outputId": "36e4d913-0617-46ba-91d3-c59b1414e24b"
      },
      "source": [
        "df.groupBy(\"department\").mean(\"salary\").show()"
      ],
      "execution_count": 20,
      "outputs": [
        {
          "output_type": "stream",
          "text": [
            "+----------+-----------------+\n",
            "|department|      avg(salary)|\n",
            "+----------+-----------------+\n",
            "|     Sales|85666.66666666667|\n",
            "|   Finance|          87750.0|\n",
            "|     Admin|         910000.0|\n",
            "| Marketing|          88000.0|\n",
            "+----------+-----------------+\n",
            "\n"
          ],
          "name": "stdout"
        }
      ]
    },
    {
      "cell_type": "code",
      "metadata": {
        "colab": {
          "base_uri": "https://localhost:8080/"
        },
        "id": "I6vLnsBWycdJ",
        "outputId": "26ae9cd3-05eb-43df-f21b-71cbd38d0b15"
      },
      "source": [
        "df.groupBy(\"state\").count().withColumnRenamed(\"count\",\"StateCount\").select(\"StateCount\").show()"
      ],
      "execution_count": 29,
      "outputs": [
        {
          "output_type": "stream",
          "text": [
            "+----------+\n",
            "|StateCount|\n",
            "+----------+\n",
            "|         4|\n",
            "|         7|\n",
            "+----------+\n",
            "\n"
          ],
          "name": "stdout"
        }
      ]
    },
    {
      "cell_type": "code",
      "metadata": {
        "colab": {
          "base_uri": "https://localhost:8080/"
        },
        "id": "M--XoMygycuP",
        "outputId": "d51f1f40-31c6-4572-a93f-bdac68cd7d08"
      },
      "source": [
        "#udf\n",
        "df.show()"
      ],
      "execution_count": 30,
      "outputs": [
        {
          "output_type": "stream",
          "text": [
            "+-------------+----------+-----+------+---+-----+\n",
            "|employee_name|department|state|salary|age|bonus|\n",
            "+-------------+----------+-----+------+---+-----+\n",
            "|        James|     Sales|   NY| 90000| 34|10000|\n",
            "|      Michael|     Sales|   NY| 86000| 56|20000|\n",
            "|       Robert|     Sales|   CA| 81000| 30|23000|\n",
            "|        Maria|   Finance|   CA| 90000| 24|23000|\n",
            "|        Raman|   Finance|   CA| 99000| 40|24000|\n",
            "|        Scott|   Finance|   NY| 83000| 36|19000|\n",
            "|          Jen|   Finance|   NY| 79000| 53|15000|\n",
            "|         Jeff| Marketing|   CA| 80000| 25|18000|\n",
            "|        Kumar| Marketing|   NY| 91000| 50|21000|\n",
            "|         john| Marketing|   NY| 93000| 37|19000|\n",
            "|         Eliz|     Admin|   NY|910000| 43|17000|\n",
            "+-------------+----------+-----+------+---+-----+\n",
            "\n"
          ],
          "name": "stdout"
        }
      ]
    },
    {
      "cell_type": "code",
      "metadata": {
        "id": "tFRYLOGyycxx"
      },
      "source": [
        "from pyspark.sql.functions import udf\n",
        "\n"
      ],
      "execution_count": 33,
      "outputs": []
    },
    {
      "cell_type": "code",
      "metadata": {
        "id": "qyGoGP4x0JLu"
      },
      "source": [
        "@udf(\"int\")\n",
        "def add_5(x):\n",
        "  return x*5\n"
      ],
      "execution_count": 39,
      "outputs": []
    },
    {
      "cell_type": "code",
      "metadata": {
        "colab": {
          "base_uri": "https://localhost:8080/"
        },
        "id": "Xo81WizR0JPO",
        "outputId": "d69a920d-854e-49fb-b657-c048f64be49a"
      },
      "source": [
        "df.select(add_5(df.salary)).alias(\"SALARY\").show()"
      ],
      "execution_count": 41,
      "outputs": [
        {
          "output_type": "stream",
          "text": [
            "+-------------+\n",
            "|add_5(salary)|\n",
            "+-------------+\n",
            "|       450000|\n",
            "|       430000|\n",
            "|       405000|\n",
            "|       450000|\n",
            "|       495000|\n",
            "|       415000|\n",
            "|       395000|\n",
            "|       400000|\n",
            "|       455000|\n",
            "|       465000|\n",
            "|      4550000|\n",
            "+-------------+\n",
            "\n"
          ],
          "name": "stdout"
        }
      ]
    },
    {
      "cell_type": "code",
      "metadata": {
        "id": "i1WaLM1O0JkB"
      },
      "source": [
        "#pyspark to pandas and pandas to pyspark\n",
        "df =df.toPandas()"
      ],
      "execution_count": 59,
      "outputs": []
    },
    {
      "cell_type": "code",
      "metadata": {
        "id": "D36Ge8eL0J1m"
      },
      "source": [
        "import pandas as pd\n"
      ],
      "execution_count": 60,
      "outputs": []
    },
    {
      "cell_type": "code",
      "metadata": {
        "colab": {
          "base_uri": "https://localhost:8080/",
          "height": 373
        },
        "id": "6m13UYOzydC1",
        "outputId": "326db1a1-0f8a-4e31-f7b6-fa418ac3a005"
      },
      "source": [
        "df\n"
      ],
      "execution_count": 61,
      "outputs": [
        {
          "output_type": "execute_result",
          "data": {
            "text/html": [
              "<div>\n",
              "<style scoped>\n",
              "    .dataframe tbody tr th:only-of-type {\n",
              "        vertical-align: middle;\n",
              "    }\n",
              "\n",
              "    .dataframe tbody tr th {\n",
              "        vertical-align: top;\n",
              "    }\n",
              "\n",
              "    .dataframe thead th {\n",
              "        text-align: right;\n",
              "    }\n",
              "</style>\n",
              "<table border=\"1\" class=\"dataframe\">\n",
              "  <thead>\n",
              "    <tr style=\"text-align: right;\">\n",
              "      <th></th>\n",
              "      <th>employee_name</th>\n",
              "      <th>department</th>\n",
              "      <th>state</th>\n",
              "      <th>salary</th>\n",
              "      <th>age</th>\n",
              "      <th>bonus</th>\n",
              "    </tr>\n",
              "  </thead>\n",
              "  <tbody>\n",
              "    <tr>\n",
              "      <th>0</th>\n",
              "      <td>James</td>\n",
              "      <td>Sales</td>\n",
              "      <td>NY</td>\n",
              "      <td>90000</td>\n",
              "      <td>34</td>\n",
              "      <td>10000</td>\n",
              "    </tr>\n",
              "    <tr>\n",
              "      <th>1</th>\n",
              "      <td>Michael</td>\n",
              "      <td>Sales</td>\n",
              "      <td>NY</td>\n",
              "      <td>86000</td>\n",
              "      <td>56</td>\n",
              "      <td>20000</td>\n",
              "    </tr>\n",
              "    <tr>\n",
              "      <th>2</th>\n",
              "      <td>Robert</td>\n",
              "      <td>Sales</td>\n",
              "      <td>CA</td>\n",
              "      <td>81000</td>\n",
              "      <td>30</td>\n",
              "      <td>23000</td>\n",
              "    </tr>\n",
              "    <tr>\n",
              "      <th>3</th>\n",
              "      <td>Maria</td>\n",
              "      <td>Finance</td>\n",
              "      <td>CA</td>\n",
              "      <td>90000</td>\n",
              "      <td>24</td>\n",
              "      <td>23000</td>\n",
              "    </tr>\n",
              "    <tr>\n",
              "      <th>4</th>\n",
              "      <td>Raman</td>\n",
              "      <td>Finance</td>\n",
              "      <td>CA</td>\n",
              "      <td>99000</td>\n",
              "      <td>40</td>\n",
              "      <td>24000</td>\n",
              "    </tr>\n",
              "    <tr>\n",
              "      <th>5</th>\n",
              "      <td>Scott</td>\n",
              "      <td>Finance</td>\n",
              "      <td>NY</td>\n",
              "      <td>83000</td>\n",
              "      <td>36</td>\n",
              "      <td>19000</td>\n",
              "    </tr>\n",
              "    <tr>\n",
              "      <th>6</th>\n",
              "      <td>Jen</td>\n",
              "      <td>Finance</td>\n",
              "      <td>NY</td>\n",
              "      <td>79000</td>\n",
              "      <td>53</td>\n",
              "      <td>15000</td>\n",
              "    </tr>\n",
              "    <tr>\n",
              "      <th>7</th>\n",
              "      <td>Jeff</td>\n",
              "      <td>Marketing</td>\n",
              "      <td>CA</td>\n",
              "      <td>80000</td>\n",
              "      <td>25</td>\n",
              "      <td>18000</td>\n",
              "    </tr>\n",
              "    <tr>\n",
              "      <th>8</th>\n",
              "      <td>Kumar</td>\n",
              "      <td>Marketing</td>\n",
              "      <td>NY</td>\n",
              "      <td>91000</td>\n",
              "      <td>50</td>\n",
              "      <td>21000</td>\n",
              "    </tr>\n",
              "    <tr>\n",
              "      <th>9</th>\n",
              "      <td>john</td>\n",
              "      <td>Marketing</td>\n",
              "      <td>NY</td>\n",
              "      <td>93000</td>\n",
              "      <td>37</td>\n",
              "      <td>19000</td>\n",
              "    </tr>\n",
              "    <tr>\n",
              "      <th>10</th>\n",
              "      <td>Eliz</td>\n",
              "      <td>Admin</td>\n",
              "      <td>NY</td>\n",
              "      <td>910000</td>\n",
              "      <td>43</td>\n",
              "      <td>17000</td>\n",
              "    </tr>\n",
              "  </tbody>\n",
              "</table>\n",
              "</div>"
            ],
            "text/plain": [
              "   employee_name department state  salary  age  bonus\n",
              "0          James      Sales    NY   90000   34  10000\n",
              "1        Michael      Sales    NY   86000   56  20000\n",
              "2         Robert      Sales    CA   81000   30  23000\n",
              "3          Maria    Finance    CA   90000   24  23000\n",
              "4          Raman    Finance    CA   99000   40  24000\n",
              "5          Scott    Finance    NY   83000   36  19000\n",
              "6            Jen    Finance    NY   79000   53  15000\n",
              "7           Jeff  Marketing    CA   80000   25  18000\n",
              "8          Kumar  Marketing    NY   91000   50  21000\n",
              "9           john  Marketing    NY   93000   37  19000\n",
              "10          Eliz      Admin    NY  910000   43  17000"
            ]
          },
          "metadata": {
            "tags": []
          },
          "execution_count": 61
        }
      ]
    },
    {
      "cell_type": "code",
      "metadata": {
        "colab": {
          "base_uri": "https://localhost:8080/"
        },
        "id": "VUYDC754ydVi",
        "outputId": "eda9869f-2afe-4d33-fabe-a61433a04b86"
      },
      "source": [
        "df.describe"
      ],
      "execution_count": 62,
      "outputs": [
        {
          "output_type": "execute_result",
          "data": {
            "text/plain": [
              "<bound method NDFrame.describe of    employee_name department state  salary  age  bonus\n",
              "0          James      Sales    NY   90000   34  10000\n",
              "1        Michael      Sales    NY   86000   56  20000\n",
              "2         Robert      Sales    CA   81000   30  23000\n",
              "3          Maria    Finance    CA   90000   24  23000\n",
              "4          Raman    Finance    CA   99000   40  24000\n",
              "5          Scott    Finance    NY   83000   36  19000\n",
              "6            Jen    Finance    NY   79000   53  15000\n",
              "7           Jeff  Marketing    CA   80000   25  18000\n",
              "8          Kumar  Marketing    NY   91000   50  21000\n",
              "9           john  Marketing    NY   93000   37  19000\n",
              "10          Eliz      Admin    NY  910000   43  17000>"
            ]
          },
          "metadata": {
            "tags": []
          },
          "execution_count": 62
        }
      ]
    },
    {
      "cell_type": "code",
      "metadata": {
        "id": "wOOEf0F92rBV"
      },
      "source": [
        "#pandas to pyspark\n",
        "from pyspark.sql import SQLContext"
      ],
      "execution_count": 63,
      "outputs": []
    },
    {
      "cell_type": "code",
      "metadata": {
        "id": "DIRRNx513KA4"
      },
      "source": [
        "sqlContext =SQLContext(spark)"
      ],
      "execution_count": 64,
      "outputs": []
    },
    {
      "cell_type": "code",
      "metadata": {
        "colab": {
          "base_uri": "https://localhost:8080/"
        },
        "id": "VtylfJa_3KER",
        "outputId": "e41c5e79-e53e-422c-87b9-b98341271d7e"
      },
      "source": [
        "sqlContext.createDataFrame(df).show()"
      ],
      "execution_count": 65,
      "outputs": [
        {
          "output_type": "stream",
          "text": [
            "+-------------+----------+-----+------+---+-----+\n",
            "|employee_name|department|state|salary|age|bonus|\n",
            "+-------------+----------+-----+------+---+-----+\n",
            "|        James|     Sales|   NY| 90000| 34|10000|\n",
            "|      Michael|     Sales|   NY| 86000| 56|20000|\n",
            "|       Robert|     Sales|   CA| 81000| 30|23000|\n",
            "|        Maria|   Finance|   CA| 90000| 24|23000|\n",
            "|        Raman|   Finance|   CA| 99000| 40|24000|\n",
            "|        Scott|   Finance|   NY| 83000| 36|19000|\n",
            "|          Jen|   Finance|   NY| 79000| 53|15000|\n",
            "|         Jeff| Marketing|   CA| 80000| 25|18000|\n",
            "|        Kumar| Marketing|   NY| 91000| 50|21000|\n",
            "|         john| Marketing|   NY| 93000| 37|19000|\n",
            "|         Eliz|     Admin|   NY|910000| 43|17000|\n",
            "+-------------+----------+-----+------+---+-----+\n",
            "\n"
          ],
          "name": "stdout"
        }
      ]
    },
    {
      "cell_type": "code",
      "metadata": {
        "id": "KXkoirp_3KPL"
      },
      "source": [
        "#Remvong null values and none values\n",
        "\n",
        "df = sqlContext.createDataFrame([\n",
        "[1,'Naveen','Srikant'],\n",
        "[2,'','Srikant'],\n",
        "[3,'Jai','']],\n",
        "['ID','FirstName','LastName'])"
      ],
      "execution_count": 67,
      "outputs": []
    },
    {
      "cell_type": "code",
      "metadata": {
        "colab": {
          "base_uri": "https://localhost:8080/"
        },
        "id": "P0ZWX-SJ3KZq",
        "outputId": "cc84ca16-16f9-4d1b-9a87-d471955550ce"
      },
      "source": [
        "df.show()"
      ],
      "execution_count": 68,
      "outputs": [
        {
          "output_type": "stream",
          "text": [
            "+---+---------+--------+\n",
            "| ID|FirstName|LastName|\n",
            "+---+---------+--------+\n",
            "|  1|   Naveen| Srikant|\n",
            "|  2|         | Srikant|\n",
            "|  3|      Jai|        |\n",
            "+---+---------+--------+\n",
            "\n"
          ],
          "name": "stdout"
        }
      ]
    },
    {
      "cell_type": "code",
      "metadata": {
        "colab": {
          "base_uri": "https://localhost:8080/"
        },
        "id": "NwP2U7Ic3KdI",
        "outputId": "eeac7764-6b24-4daa-e2c1-1615dcbb17ab"
      },
      "source": [
        "df.filter(df.FirstName.isNotNull()).show()"
      ],
      "execution_count": 69,
      "outputs": [
        {
          "output_type": "stream",
          "text": [
            "+---+---------+--------+\n",
            "| ID|FirstName|LastName|\n",
            "+---+---------+--------+\n",
            "|  1|   Naveen| Srikant|\n",
            "|  2|         | Srikant|\n",
            "|  3|      Jai|        |\n",
            "+---+---------+--------+\n",
            "\n"
          ],
          "name": "stdout"
        }
      ]
    },
    {
      "cell_type": "code",
      "metadata": {
        "colab": {
          "base_uri": "https://localhost:8080/"
        },
        "id": "kNTt0gnk5LZS",
        "outputId": "edfb6354-89aa-4bb3-8141-9ccfb310a788"
      },
      "source": [
        "df.where(df.FirstName.isNotNull()).show()"
      ],
      "execution_count": 70,
      "outputs": [
        {
          "output_type": "stream",
          "text": [
            "+---+---------+--------+\n",
            "| ID|FirstName|LastName|\n",
            "+---+---------+--------+\n",
            "|  1|   Naveen| Srikant|\n",
            "|  2|         | Srikant|\n",
            "|  3|      Jai|        |\n",
            "+---+---------+--------+\n",
            "\n"
          ],
          "name": "stdout"
        }
      ]
    },
    {
      "cell_type": "code",
      "metadata": {
        "id": "XbqrwgwE5Lcq"
      },
      "source": [
        ""
      ],
      "execution_count": null,
      "outputs": []
    },
    {
      "cell_type": "code",
      "metadata": {
        "id": "00YuHgYn2rEo"
      },
      "source": [
        "def removeNullEmpty(x):\n",
        "   if x == '':\n",
        "    return 1\n",
        "   else:\n",
        "    return 0"
      ],
      "execution_count": 73,
      "outputs": []
    },
    {
      "cell_type": "code",
      "metadata": {
        "id": "mIL2sz3p59MP"
      },
      "source": [
        "from pyspark.sql.types import IntegerType\n",
        "udfValueToCategory = udf(removeNullEmpty,IntegerType())\n",
        "df11= df.withColumn(\"category\",udfValueToCategory(\"FirstName\"))"
      ],
      "execution_count": 75,
      "outputs": []
    },
    {
      "cell_type": "code",
      "metadata": {
        "colab": {
          "base_uri": "https://localhost:8080/"
        },
        "id": "enRTAAEL59P0",
        "outputId": "25f7c7b5-d91d-42c5-a9da-d3c3182c6db9"
      },
      "source": [
        "df11.show()"
      ],
      "execution_count": 76,
      "outputs": [
        {
          "output_type": "stream",
          "text": [
            "+---+---------+--------+--------+\n",
            "| ID|FirstName|LastName|category|\n",
            "+---+---------+--------+--------+\n",
            "|  1|   Naveen| Srikant|       0|\n",
            "|  2|         | Srikant|       1|\n",
            "|  3|      Jai|        |       0|\n",
            "+---+---------+--------+--------+\n",
            "\n"
          ],
          "name": "stdout"
        }
      ]
    },
    {
      "cell_type": "code",
      "metadata": {
        "colab": {
          "base_uri": "https://localhost:8080/"
        },
        "id": "9gcaEj4T59gi",
        "outputId": "36bd7b7c-247e-40eb-87c6-ce9d919a7bef"
      },
      "source": [
        "df11.filter(df11.category ==0).select(\"FirstName\",\"LastName\").show()"
      ],
      "execution_count": 77,
      "outputs": [
        {
          "output_type": "stream",
          "text": [
            "+---------+--------+\n",
            "|FirstName|LastName|\n",
            "+---------+--------+\n",
            "|   Naveen| Srikant|\n",
            "|      Jai|        |\n",
            "+---------+--------+\n",
            "\n"
          ],
          "name": "stdout"
        }
      ]
    },
    {
      "cell_type": "code",
      "metadata": {
        "id": "afgq3A0F59kD"
      },
      "source": [
        ""
      ],
      "execution_count": null,
      "outputs": []
    }
  ]
}