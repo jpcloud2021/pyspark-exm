{
  "nbformat": 4,
  "nbformat_minor": 0,
  "metadata": {
    "colab": {
      "name": "pyspark-sample.ipynb",
      "provenance": [],
      "include_colab_link": true
    },
    "kernelspec": {
      "name": "python3",
      "display_name": "Python 3"
    },
    "language_info": {
      "name": "python"
    }
  },
  "cells": [
    {
      "cell_type": "markdown",
      "metadata": {
        "id": "view-in-github",
        "colab_type": "text"
      },
      "source": [
        "<a href=\"https://colab.research.google.com/github/jpcloud2021/pyspark-exm/blob/main/pyspark_sample.ipynb\" target=\"_parent\"><img src=\"https://colab.research.google.com/assets/colab-badge.svg\" alt=\"Open In Colab\"/></a>"
      ]
    },
    {
      "cell_type": "code",
      "metadata": {
        "colab": {
          "base_uri": "https://localhost:8080/"
        },
        "id": "GCLcAMeIu5cz",
        "outputId": "b5418c35-1fa9-4660-86b7-43876f6a8539"
      },
      "source": [
        "!pip install pyspark\n"
      ],
      "execution_count": null,
      "outputs": [
        {
          "output_type": "stream",
          "text": [
            "Collecting pyspark\n",
            "\u001b[?25l  Downloading https://files.pythonhosted.org/packages/89/db/e18cfd78e408de957821ec5ca56de1250645b05f8523d169803d8df35a64/pyspark-3.1.2.tar.gz (212.4MB)\n",
            "\u001b[K     |████████████████████████████████| 212.4MB 68kB/s \n",
            "\u001b[?25hCollecting py4j==0.10.9\n",
            "\u001b[?25l  Downloading https://files.pythonhosted.org/packages/9e/b6/6a4fb90cd235dc8e265a6a2067f2a2c99f0d91787f06aca4bcf7c23f3f80/py4j-0.10.9-py2.py3-none-any.whl (198kB)\n",
            "\u001b[K     |████████████████████████████████| 204kB 15.9MB/s \n",
            "\u001b[?25hBuilding wheels for collected packages: pyspark\n",
            "  Building wheel for pyspark (setup.py) ... \u001b[?25l\u001b[?25hdone\n",
            "  Created wheel for pyspark: filename=pyspark-3.1.2-py2.py3-none-any.whl size=212880768 sha256=f944970e01489bab59c57d6c65d3342badbcd2fb1f1e2ee2694d9b05e9c28b8a\n",
            "  Stored in directory: /root/.cache/pip/wheels/40/1b/2c/30f43be2627857ab80062bef1527c0128f7b4070b6b2d02139\n",
            "Successfully built pyspark\n",
            "Installing collected packages: py4j, pyspark\n",
            "Successfully installed py4j-0.10.9 pyspark-3.1.2\n"
          ],
          "name": "stdout"
        }
      ]
    },
    {
      "cell_type": "code",
      "metadata": {
        "colab": {
          "base_uri": "https://localhost:8080/"
        },
        "id": "mlND-6_Jwyui",
        "outputId": "57f12cdb-7a30-4685-b4b0-49a73c80a4fc"
      },
      "source": [
        "list1 = (1,2,3,4)\n",
        "list1\n",
        "list1[2]\n",
        "\n",
        "myDict ={\"1\":\"Bob\",\"2\":\"Cooper\",\"3\":\"John\"}\n",
        "myDict\n",
        "myDict.keys()\n",
        "myDict.values()\n",
        "\n"
      ],
      "execution_count": null,
      "outputs": [
        {
          "output_type": "execute_result",
          "data": {
            "text/plain": [
              "dict_values(['Bob', 'Cooper', 'John'])"
            ]
          },
          "metadata": {
            "tags": []
          },
          "execution_count": 12
        }
      ]
    },
    {
      "cell_type": "code",
      "metadata": {
        "id": "EFh9ksHZzTDX",
        "colab": {
          "base_uri": "https://localhost:8080/",
          "height": 217
        },
        "outputId": "dd7c013e-ac77-4219-8470-74f57fbf213a"
      },
      "source": [
        "from pyspark.sql import SparkSession\n",
        "spark= SparkSession.builder\\\n",
        ".appName(\"MyProcess\")\\\n",
        ".master(\"local[*]\")\\\n",
        ".getOrCreate()\n",
        "spark"
      ],
      "execution_count": null,
      "outputs": [
        {
          "output_type": "execute_result",
          "data": {
            "text/html": [
              "\n",
              "            <div>\n",
              "                <p><b>SparkSession - in-memory</b></p>\n",
              "                \n",
              "        <div>\n",
              "            <p><b>SparkContext</b></p>\n",
              "\n",
              "            <p><a href=\"http://e20e3c909a5e:4040\">Spark UI</a></p>\n",
              "\n",
              "            <dl>\n",
              "              <dt>Version</dt>\n",
              "                <dd><code>v3.1.2</code></dd>\n",
              "              <dt>Master</dt>\n",
              "                <dd><code>local[*]</code></dd>\n",
              "              <dt>AppName</dt>\n",
              "                <dd><code>MyProcess</code></dd>\n",
              "            </dl>\n",
              "        </div>\n",
              "        \n",
              "            </div>\n",
              "        "
            ],
            "text/plain": [
              "<pyspark.sql.session.SparkSession at 0x7fd059a41150>"
            ]
          },
          "metadata": {
            "tags": []
          },
          "execution_count": 3
        }
      ]
    },
    {
      "cell_type": "code",
      "metadata": {
        "id": "kFiLbp5T1I6A"
      },
      "source": [
        "### creating dataframe\n",
        "\n",
        "header =[\"city\",\"type\",\"price\"]\n",
        "\n",
        "data =map(lambda r:(r[0],r[1],float(r[2])),\n",
        "                    map(lambda x:x.split(\",\"),\n",
        "                        [\"Paris,Food,19.0\", \"marsellie,Cloathing,12.0\", \"Paris,Food,8.0\", \"Paris,Cloathing,8.0\"]))\n",
        "df=spark.createDataFrame(data,header)"
      ],
      "execution_count": null,
      "outputs": []
    },
    {
      "cell_type": "code",
      "metadata": {
        "id": "KuYjCcQaDUZe",
        "colab": {
          "base_uri": "https://localhost:8080/"
        },
        "outputId": "393004ea-7662-4f2a-cd93-ab00cb1f7fbd"
      },
      "source": [
        "df.show()"
      ],
      "execution_count": null,
      "outputs": [
        {
          "output_type": "stream",
          "text": [
            "+---------+---------+-----+\n",
            "|     city|     type|price|\n",
            "+---------+---------+-----+\n",
            "|    Paris|     Food| 19.0|\n",
            "|marsellie|Cloathing| 12.0|\n",
            "|    Paris|     Food|  8.0|\n",
            "|    Paris|Cloathing|  8.0|\n",
            "+---------+---------+-----+\n",
            "\n"
          ],
          "name": "stdout"
        }
      ]
    }
  ]
}