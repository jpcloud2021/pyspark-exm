{
  "nbformat": 4,
  "nbformat_minor": 0,
  "metadata": {
    "colab": {
      "name": "pyspark-sample.ipynb",
      "provenance": [],
      "include_colab_link": true
    },
    "kernelspec": {
      "name": "python3",
      "display_name": "Python 3"
    },
    "language_info": {
      "name": "python"
    }
  },
  "cells": [
    {
      "cell_type": "markdown",
      "metadata": {
        "id": "view-in-github",
        "colab_type": "text"
      },
      "source": [
        "<a href=\"https://colab.research.google.com/github/jpcloud2021/pyspark-exm/blob/main/pyspark_sample.ipynb\" target=\"_parent\"><img src=\"https://colab.research.google.com/assets/colab-badge.svg\" alt=\"Open In Colab\"/></a>"
      ]
    },
    {
      "cell_type": "code",
      "metadata": {
        "colab": {
          "base_uri": "https://localhost:8080/"
        },
        "id": "GCLcAMeIu5cz",
        "outputId": "8220682c-affd-4a2c-9f7e-d4b0ec0200fc"
      },
      "source": [
        "!pip install pyspark\n"
      ],
      "execution_count": 2,
      "outputs": [
        {
          "output_type": "stream",
          "text": [
            "Collecting pyspark\n",
            "\u001b[?25l  Downloading https://files.pythonhosted.org/packages/89/db/e18cfd78e408de957821ec5ca56de1250645b05f8523d169803d8df35a64/pyspark-3.1.2.tar.gz (212.4MB)\n",
            "\u001b[K     |████████████████████████████████| 212.4MB 68kB/s \n",
            "\u001b[?25hCollecting py4j==0.10.9\n",
            "\u001b[?25l  Downloading https://files.pythonhosted.org/packages/9e/b6/6a4fb90cd235dc8e265a6a2067f2a2c99f0d91787f06aca4bcf7c23f3f80/py4j-0.10.9-py2.py3-none-any.whl (198kB)\n",
            "\u001b[K     |████████████████████████████████| 204kB 17.9MB/s \n",
            "\u001b[?25hBuilding wheels for collected packages: pyspark\n",
            "  Building wheel for pyspark (setup.py) ... \u001b[?25l\u001b[?25hdone\n",
            "  Created wheel for pyspark: filename=pyspark-3.1.2-py2.py3-none-any.whl size=212880768 sha256=26284933476c2b1de4b6ef98d1ad3f0ba4086346305274cd45baa62ed83e5ba6\n",
            "  Stored in directory: /root/.cache/pip/wheels/40/1b/2c/30f43be2627857ab80062bef1527c0128f7b4070b6b2d02139\n",
            "Successfully built pyspark\n",
            "Installing collected packages: py4j, pyspark\n",
            "Successfully installed py4j-0.10.9 pyspark-3.1.2\n"
          ],
          "name": "stdout"
        }
      ]
    },
    {
      "cell_type": "code",
      "metadata": {
        "colab": {
          "base_uri": "https://localhost:8080/"
        },
        "id": "mlND-6_Jwyui",
        "outputId": "57f12cdb-7a30-4685-b4b0-49a73c80a4fc"
      },
      "source": [
        "list1 = (1,2,3,4)\n",
        "list1\n",
        "list1[2]\n",
        "\n",
        "myDict ={\"1\":\"Bob\",\"2\":\"Cooper\",\"3\":\"John\"}\n",
        "myDict\n",
        "myDict.keys()\n",
        "myDict.values()\n",
        "\n"
      ],
      "execution_count": null,
      "outputs": [
        {
          "output_type": "execute_result",
          "data": {
            "text/plain": [
              "dict_values(['Bob', 'Cooper', 'John'])"
            ]
          },
          "metadata": {
            "tags": []
          },
          "execution_count": 12
        }
      ]
    },
    {
      "cell_type": "code",
      "metadata": {
        "id": "EFh9ksHZzTDX",
        "colab": {
          "base_uri": "https://localhost:8080/",
          "height": 217
        },
        "outputId": "6685afb2-4468-44ba-bd21-708476f93e77"
      },
      "source": [
        "from pyspark.sql import SparkSession\n",
        "spark= SparkSession.builder\\\n",
        ".appName(\"MyProcess\")\\\n",
        ".master(\"local[*]\")\\\n",
        ".getOrCreate()\n",
        "spark"
      ],
      "execution_count": 3,
      "outputs": [
        {
          "output_type": "execute_result",
          "data": {
            "text/html": [
              "\n",
              "            <div>\n",
              "                <p><b>SparkSession - in-memory</b></p>\n",
              "                \n",
              "        <div>\n",
              "            <p><b>SparkContext</b></p>\n",
              "\n",
              "            <p><a href=\"http://414d9d1fcc59:4040\">Spark UI</a></p>\n",
              "\n",
              "            <dl>\n",
              "              <dt>Version</dt>\n",
              "                <dd><code>v3.1.2</code></dd>\n",
              "              <dt>Master</dt>\n",
              "                <dd><code>local[*]</code></dd>\n",
              "              <dt>AppName</dt>\n",
              "                <dd><code>MyProcess</code></dd>\n",
              "            </dl>\n",
              "        </div>\n",
              "        \n",
              "            </div>\n",
              "        "
            ],
            "text/plain": [
              "<pyspark.sql.session.SparkSession at 0x7fc2607892d0>"
            ]
          },
          "metadata": {
            "tags": []
          },
          "execution_count": 3
        }
      ]
    },
    {
      "cell_type": "code",
      "metadata": {
        "id": "kFiLbp5T1I6A"
      },
      "source": [
        "### creating dataframe\n",
        "\n",
        "header =[\"city\",\"type\",\"price\"]\n",
        "\n",
        "data =map(lambda r:(r[0],r[1],float(r[2])),\n",
        "                    map(lambda x:x.split(\",\"),\n",
        "                        [\"Paris,Food,19.00\", \n",
        "\"Marsellie,Cloathing,12.00\", \n",
        "\"Paris,Food,8.00\", \n",
        "\"Paris,Cloathing,8.00\",\n",
        "\"Marsellie,Food,20.00\",\n",
        "\"Lyon,Book,18.00\"]))\n",
        "df=spark.createDataFrame(data,header)"
      ],
      "execution_count": 13,
      "outputs": []
    },
    {
      "cell_type": "code",
      "metadata": {
        "colab": {
          "base_uri": "https://localhost:8080/"
        },
        "id": "OfWzI-Ce5Yq6",
        "outputId": "8a05f3fa-debe-4eb0-df91-417b796902b7"
      },
      "source": [
        "list(data)"
      ],
      "execution_count": 15,
      "outputs": [
        {
          "output_type": "execute_result",
          "data": {
            "text/plain": [
              "[]"
            ]
          },
          "metadata": {
            "tags": []
          },
          "execution_count": 15
        }
      ]
    },
    {
      "cell_type": "code",
      "metadata": {
        "id": "KuYjCcQaDUZe",
        "colab": {
          "base_uri": "https://localhost:8080/"
        },
        "outputId": "fe0ad35e-0cd0-4a0e-dbea-44feb4dc2347"
      },
      "source": [
        "\n",
        "df.show()"
      ],
      "execution_count": 14,
      "outputs": [
        {
          "output_type": "stream",
          "text": [
            "+---------+---------+-----+\n",
            "|     city|     type|price|\n",
            "+---------+---------+-----+\n",
            "|    Paris|     Food| 19.0|\n",
            "|Marsellie|Cloathing| 12.0|\n",
            "|    Paris|     Food|  8.0|\n",
            "|    Paris|Cloathing|  8.0|\n",
            "|Marsellie|     Food| 20.0|\n",
            "|     Lyon|     Book| 18.0|\n",
            "+---------+---------+-----+\n",
            "\n"
          ],
          "name": "stdout"
        }
      ]
    },
    {
      "cell_type": "code",
      "metadata": {
        "colab": {
          "base_uri": "https://localhost:8080/"
        },
        "id": "Xb3IoY_Z5EXu",
        "outputId": "e1ffbfff-eb62-40f6-b566-6dc36668d8b7"
      },
      "source": [
        "df.take(2)"
      ],
      "execution_count": 19,
      "outputs": [
        {
          "output_type": "execute_result",
          "data": {
            "text/plain": [
              "[Row(city='Paris', type='Food', price=19.0),\n",
              " Row(city='Marsellie', type='Cloathing', price=12.0)]"
            ]
          },
          "metadata": {
            "tags": []
          },
          "execution_count": 19
        }
      ]
    },
    {
      "cell_type": "code",
      "metadata": {
        "colab": {
          "base_uri": "https://localhost:8080/"
        },
        "id": "XQVTyd6v59Qj",
        "outputId": "80e247c7-7eb8-49e5-b946-133018e89cc1"
      },
      "source": [
        "df.printSchema()"
      ],
      "execution_count": 21,
      "outputs": [
        {
          "output_type": "stream",
          "text": [
            "root\n",
            " |-- city: string (nullable = true)\n",
            " |-- type: string (nullable = true)\n",
            " |-- price: double (nullable = true)\n",
            "\n"
          ],
          "name": "stdout"
        }
      ]
    },
    {
      "cell_type": "code",
      "metadata": {
        "id": "h-F5t_DA5Xxu"
      },
      "source": [
        ""
      ],
      "execution_count": null,
      "outputs": []
    },
    {
      "cell_type": "code",
      "metadata": {
        "colab": {
          "base_uri": "https://localhost:8080/"
        },
        "id": "vhFiJPAY6MYL",
        "outputId": "9dd8232f-846d-4a7d-db6b-7595fcbd6743"
      },
      "source": [
        "df.dtypes"
      ],
      "execution_count": 24,
      "outputs": [
        {
          "output_type": "execute_result",
          "data": {
            "text/plain": [
              "[('city', 'string'), ('type', 'string'), ('price', 'double')]"
            ]
          },
          "metadata": {
            "tags": []
          },
          "execution_count": 24
        }
      ]
    },
    {
      "cell_type": "code",
      "metadata": {
        "colab": {
          "base_uri": "https://localhost:8080/"
        },
        "id": "jdRvx7ER6aTw",
        "outputId": "e2935b79-1464-4a37-819d-4deb13e65d00"
      },
      "source": [
        "for x in df.dtypes:\n",
        "     print(x)"
      ],
      "execution_count": 27,
      "outputs": [
        {
          "output_type": "stream",
          "text": [
            "('city', 'string')\n",
            "('type', 'string')\n",
            "('price', 'double')\n"
          ],
          "name": "stdout"
        }
      ]
    },
    {
      "cell_type": "code",
      "metadata": {
        "id": "i5pdIgeO6lPM"
      },
      "source": [
        ""
      ],
      "execution_count": null,
      "outputs": []
    },
    {
      "cell_type": "code",
      "metadata": {
        "id": "C0Eid5Zh6lMo"
      },
      "source": [
        "#Selecting columns"
      ],
      "execution_count": 29,
      "outputs": []
    },
    {
      "cell_type": "code",
      "metadata": {
        "colab": {
          "base_uri": "https://localhost:8080/"
        },
        "id": "5GLNsDu36lSM",
        "outputId": "cb655ec1-d0ac-4114-c71e-59f2a458666e"
      },
      "source": [
        "from pyspark.sql.types import StringType, FloatType, StructType , StructField\n",
        "\n",
        "data =map(lambda r:(r[0],r[1],float(r[2])),\n",
        "\tmap(lambda x:x.split(\",\"),\n",
        "[\"Paris,Food,19.00\", \n",
        "\"Marsellie,Cloathing,12.00\", \n",
        "\"Paris,Food,8.00\", \n",
        "\"Paris,Cloathing,8.00\",\n",
        "\"Marsellie,Food,20.00\",\n",
        "\"Lyon,Book,18.00\"]))\n",
        "\n",
        "schema = StructType([StructField(\"city\", StringType(), nullable=True),StructField(\"type\", StringType(), nullable=True),StructField(\"price\", FloatType(), nullable=True)])\n",
        "\n",
        "df =spark.createDataFrame(data,schema=schema)\n",
        "df.show()"
      ],
      "execution_count": 62,
      "outputs": [
        {
          "output_type": "stream",
          "text": [
            "+---------+---------+-----+\n",
            "|     city|     type|price|\n",
            "+---------+---------+-----+\n",
            "|    Paris|     Food| 19.0|\n",
            "|Marsellie|Cloathing| 12.0|\n",
            "|    Paris|     Food|  8.0|\n",
            "|    Paris|Cloathing|  8.0|\n",
            "|Marsellie|     Food| 20.0|\n",
            "|     Lyon|     Book| 18.0|\n",
            "+---------+---------+-----+\n",
            "\n"
          ],
          "name": "stdout"
        }
      ]
    },
    {
      "cell_type": "code",
      "metadata": {
        "colab": {
          "base_uri": "https://localhost:8080/"
        },
        "id": "RKgyKaJo_FIA",
        "outputId": "c27963ff-44db-4514-ecb5-95b87c1c1dd8"
      },
      "source": [
        "df.select(\"city\").show()"
      ],
      "execution_count": 67,
      "outputs": [
        {
          "output_type": "stream",
          "text": [
            "+---------+\n",
            "|     city|\n",
            "+---------+\n",
            "|    Paris|\n",
            "|Marsellie|\n",
            "|    Paris|\n",
            "|    Paris|\n",
            "|Marsellie|\n",
            "|     Lyon|\n",
            "+---------+\n",
            "\n"
          ],
          "name": "stdout"
        }
      ]
    },
    {
      "cell_type": "code",
      "metadata": {
        "colab": {
          "base_uri": "https://localhost:8080/"
        },
        "id": "qDY9yNaGDtbC",
        "outputId": "10c25674-fd7b-4910-d891-eefa1c495191"
      },
      "source": [
        "df.select([\"city\",\"type\"]).show()"
      ],
      "execution_count": 69,
      "outputs": [
        {
          "output_type": "stream",
          "text": [
            "+---------+---------+\n",
            "|     city|     type|\n",
            "+---------+---------+\n",
            "|    Paris|     Food|\n",
            "|Marsellie|Cloathing|\n",
            "|    Paris|     Food|\n",
            "|    Paris|Cloathing|\n",
            "|Marsellie|     Food|\n",
            "|     Lyon|     Book|\n",
            "+---------+---------+\n",
            "\n"
          ],
          "name": "stdout"
        }
      ]
    },
    {
      "cell_type": "code",
      "metadata": {
        "id": "Pnbqo0e6ERm2"
      },
      "source": [
        ""
      ],
      "execution_count": null,
      "outputs": []
    },
    {
      "cell_type": "code",
      "metadata": {
        "id": "DL04_GxHERry"
      },
      "source": [
        ""
      ],
      "execution_count": null,
      "outputs": []
    },
    {
      "cell_type": "code",
      "metadata": {
        "id": "WEZ74O-lESCQ"
      },
      "source": [
        ""
      ],
      "execution_count": null,
      "outputs": []
    },
    {
      "cell_type": "code",
      "metadata": {
        "colab": {
          "base_uri": "https://localhost:8080/"
        },
        "id": "E0wXn8Wk6lVf",
        "outputId": "5dac8ab9-f50e-4139-9bc6-c4adc616e0ab"
      },
      "source": [
        "df.filter(df.city==\"Paris\").show()"
      ],
      "execution_count": 72,
      "outputs": [
        {
          "output_type": "stream",
          "text": [
            "+-----+---------+-----+\n",
            "| city|     type|price|\n",
            "+-----+---------+-----+\n",
            "|Paris|     Food| 19.0|\n",
            "|Paris|     Food|  8.0|\n",
            "|Paris|Cloathing|  8.0|\n",
            "+-----+---------+-----+\n",
            "\n"
          ],
          "name": "stdout"
        }
      ]
    },
    {
      "cell_type": "code",
      "metadata": {
        "colab": {
          "base_uri": "https://localhost:8080/"
        },
        "id": "QVXyTyG66ln5",
        "outputId": "1d464b6b-67f9-4557-d0fd-9519f01e142b"
      },
      "source": [
        "df.filter(df.city==\"Paris\").filter(df.type ==\"Food\").show()"
      ],
      "execution_count": 73,
      "outputs": [
        {
          "output_type": "stream",
          "text": [
            "+-----+----+-----+\n",
            "| city|type|price|\n",
            "+-----+----+-----+\n",
            "|Paris|Food| 19.0|\n",
            "|Paris|Food|  8.0|\n",
            "+-----+----+-----+\n",
            "\n"
          ],
          "name": "stdout"
        }
      ]
    },
    {
      "cell_type": "code",
      "metadata": {
        "colab": {
          "base_uri": "https://localhost:8080/"
        },
        "id": "gQI_CTqJETy9",
        "outputId": "9ea343cd-8a47-4642-a8ab-2bc277861d10"
      },
      "source": [
        "df.filter(df.city==\"Paris\").select([\"city\",\"type\"]).show()"
      ],
      "execution_count": 74,
      "outputs": [
        {
          "output_type": "stream",
          "text": [
            "+-----+---------+\n",
            "| city|     type|\n",
            "+-----+---------+\n",
            "|Paris|     Food|\n",
            "|Paris|     Food|\n",
            "|Paris|Cloathing|\n",
            "+-----+---------+\n",
            "\n"
          ],
          "name": "stdout"
        }
      ]
    },
    {
      "cell_type": "code",
      "metadata": {
        "colab": {
          "base_uri": "https://localhost:8080/"
        },
        "id": "FRoivt9WET2r",
        "outputId": "cceecddd-32b6-40ba-f45f-970c8e48618a"
      },
      "source": [
        "df.filter(df.city==\"Paris\").filter(df.type==\"Food\").sort(df.price.asc()).show()"
      ],
      "execution_count": 77,
      "outputs": [
        {
          "output_type": "stream",
          "text": [
            "+-----+----+-----+\n",
            "| city|type|price|\n",
            "+-----+----+-----+\n",
            "|Paris|Food|  8.0|\n",
            "|Paris|Food| 19.0|\n",
            "+-----+----+-----+\n",
            "\n"
          ],
          "name": "stdout"
        }
      ]
    },
    {
      "cell_type": "code",
      "metadata": {
        "colab": {
          "base_uri": "https://localhost:8080/"
        },
        "id": "JZBtwf7IF7yZ",
        "outputId": "4032145d-b7e7-4637-dbe4-bbd3d20a30db"
      },
      "source": [
        "from pyspark.sql.types import StringType, FloatType, StructType , StructField\n",
        "\n",
        "data =map(lambda r:(r[0],r[1],float(r[2])),\n",
        "\tmap(lambda x:x.split(\",\"),\n",
        "[\"Paris,Food,19.00\", \n",
        "\"Marsellie,Cloathing,12.00\", \n",
        "\"Paris,Food,8.00\", \n",
        "\"Paris,Cloathing,8.00\",\n",
        "\"Marsellie,Food,20.00\",\n",
        "\"Lyon,Book,18.00\"]))\n",
        "\n",
        "schema = StructType([StructField(\"city\", StringType(), nullable=True),StructField(\"type\", StringType(), nullable=True),StructField(\"price\", FloatType(), nullable=True)])\n",
        "\n",
        "df =spark.createDataFrame(data,schema=schema)\n",
        "df.show()"
      ],
      "execution_count": 81,
      "outputs": [
        {
          "output_type": "stream",
          "text": [
            "+---------+---------+-----+\n",
            "|     city|     type|price|\n",
            "+---------+---------+-----+\n",
            "|    Paris|     Food| 19.0|\n",
            "|Marsellie|Cloathing| 12.0|\n",
            "|    Paris|     Food|  8.0|\n",
            "|    Paris|Cloathing|  8.0|\n",
            "|Marsellie|     Food| 20.0|\n",
            "|     Lyon|     Book| 18.0|\n",
            "+---------+---------+-----+\n",
            "\n"
          ],
          "name": "stdout"
        }
      ]
    },
    {
      "cell_type": "code",
      "metadata": {
        "colab": {
          "base_uri": "https://localhost:8080/"
        },
        "id": "bbVvlCBiF8A7",
        "outputId": "c5d56926-0a67-4708-c68a-913195de185c"
      },
      "source": [
        "#manipulating column\n",
        "\n",
        "from pyspark.sql.functions import lit,rand\n",
        "\n",
        "df =df.withColumn(\"six\",lit(6)).show()"
      ],
      "execution_count": 86,
      "outputs": [
        {
          "output_type": "stream",
          "text": [
            "+---------+---------+-----+---+\n",
            "|     city|     type|price|six|\n",
            "+---------+---------+-----+---+\n",
            "|    Paris|     Food| 19.0|  6|\n",
            "|Marsellie|Cloathing| 12.0|  6|\n",
            "|    Paris|     Food|  8.0|  6|\n",
            "|    Paris|Cloathing|  8.0|  6|\n",
            "|Marsellie|     Food| 20.0|  6|\n",
            "|     Lyon|     Book| 18.0|  6|\n",
            "+---------+---------+-----+---+\n",
            "\n"
          ],
          "name": "stdout"
        }
      ]
    },
    {
      "cell_type": "code",
      "metadata": {
        "id": "hNCAEF-wYY6R",
        "outputId": "c7dd6c07-d0e8-43cf-a30b-3e01dbfb0867",
        "colab": {
          "base_uri": "https://localhost:8080/"
        }
      },
      "source": [
        "#manipulating column\n",
        "\n",
        "from pyspark.sql.types import StringType, FloatType, StructType , StructField\n",
        "\n",
        "data =map(lambda r:(r[0],r[1],float(r[2])),\n",
        "\tmap(lambda x:x.split(\",\"),\n",
        "[\"Paris,Food,19.00\", \n",
        "\"Marsellie,Cloathing,12.00\", \n",
        "\"Paris,Food,8.00\", \n",
        "\"Paris,Cloathing,8.00\",\n",
        "\"Marsellie,Food,20.00\",\n",
        "\"Lyon,Book,18.00\"]))\n",
        "\n",
        "schema = StructType([StructField(\"city\", StringType(), nullable=True),StructField(\"type\", StringType(), nullable=True),StructField(\"price\", FloatType(), nullable=True)])\n",
        "\n",
        "df =spark.createDataFrame(data,schema=schema)\n",
        "df.show()\n",
        "\n",
        "df.withColumn(\"abc\", df.price /2).show()"
      ],
      "execution_count": 87,
      "outputs": [
        {
          "output_type": "stream",
          "text": [
            "+---------+---------+-----+\n",
            "|     city|     type|price|\n",
            "+---------+---------+-----+\n",
            "|    Paris|     Food| 19.0|\n",
            "|Marsellie|Cloathing| 12.0|\n",
            "|    Paris|     Food|  8.0|\n",
            "|    Paris|Cloathing|  8.0|\n",
            "|Marsellie|     Food| 20.0|\n",
            "|     Lyon|     Book| 18.0|\n",
            "+---------+---------+-----+\n",
            "\n",
            "+---------+---------+-----+----+\n",
            "|     city|     type|price| abc|\n",
            "+---------+---------+-----+----+\n",
            "|    Paris|     Food| 19.0| 9.5|\n",
            "|Marsellie|Cloathing| 12.0| 6.0|\n",
            "|    Paris|     Food|  8.0| 4.0|\n",
            "|    Paris|Cloathing|  8.0| 4.0|\n",
            "|Marsellie|     Food| 20.0|10.0|\n",
            "|     Lyon|     Book| 18.0| 9.0|\n",
            "+---------+---------+-----+----+\n",
            "\n"
          ],
          "name": "stdout"
        }
      ]
    },
    {
      "cell_type": "code",
      "metadata": {
        "colab": {
          "base_uri": "https://localhost:8080/"
        },
        "id": "ZLMSRGiEF8Eb",
        "outputId": "77c3b613-a908-457a-98f5-b3e0f95c6eb6"
      },
      "source": [
        "#droping column\n",
        "df.show()\n",
        "\n",
        "df.drop(df.price).show()\n"
      ],
      "execution_count": 90,
      "outputs": [
        {
          "output_type": "stream",
          "text": [
            "+---------+---------+-----+\n",
            "|     city|     type|price|\n",
            "+---------+---------+-----+\n",
            "|    Paris|     Food| 19.0|\n",
            "|Marsellie|Cloathing| 12.0|\n",
            "|    Paris|     Food|  8.0|\n",
            "|    Paris|Cloathing|  8.0|\n",
            "|Marsellie|     Food| 20.0|\n",
            "|     Lyon|     Book| 18.0|\n",
            "+---------+---------+-----+\n",
            "\n",
            "+---------+---------+\n",
            "|     city|     type|\n",
            "+---------+---------+\n",
            "|    Paris|     Food|\n",
            "|Marsellie|Cloathing|\n",
            "|    Paris|     Food|\n",
            "|    Paris|Cloathing|\n",
            "|Marsellie|     Food|\n",
            "|     Lyon|     Book|\n",
            "+---------+---------+\n",
            "\n"
          ],
          "name": "stdout"
        }
      ]
    },
    {
      "cell_type": "code",
      "metadata": {
        "colab": {
          "base_uri": "https://localhost:8080/"
        },
        "id": "3KdA8-6YF8TB",
        "outputId": "bd046075-8e2a-454e-d43d-1f1d4fef8ce9"
      },
      "source": [
        "#droping multiple column --- *[\"col1\",\"col2\"]\n",
        "df.show()\n",
        "df.drop(*[\"type\",\"price\"]).show()"
      ],
      "execution_count": 92,
      "outputs": [
        {
          "output_type": "stream",
          "text": [
            "+---------+---------+-----+\n",
            "|     city|     type|price|\n",
            "+---------+---------+-----+\n",
            "|    Paris|     Food| 19.0|\n",
            "|Marsellie|Cloathing| 12.0|\n",
            "|    Paris|     Food|  8.0|\n",
            "|    Paris|Cloathing|  8.0|\n",
            "|Marsellie|     Food| 20.0|\n",
            "|     Lyon|     Book| 18.0|\n",
            "+---------+---------+-----+\n",
            "\n",
            "+---------+\n",
            "|     city|\n",
            "+---------+\n",
            "|    Paris|\n",
            "|Marsellie|\n",
            "|    Paris|\n",
            "|    Paris|\n",
            "|Marsellie|\n",
            "|     Lyon|\n",
            "+---------+\n",
            "\n"
          ],
          "name": "stdout"
        }
      ]
    },
    {
      "cell_type": "code",
      "metadata": {
        "colab": {
          "base_uri": "https://localhost:8080/"
        },
        "id": "_o3_MbflET6L",
        "outputId": "c535d2d0-3c3d-4703-989b-3bafd195b884"
      },
      "source": [
        "#Rename a column\n",
        "df.show()\n",
        "\n",
        "df.withColumnRenamed(\"type\",\"f-type\").show()"
      ],
      "execution_count": 94,
      "outputs": [
        {
          "output_type": "stream",
          "text": [
            "+---------+---------+-----+\n",
            "|     city|     type|price|\n",
            "+---------+---------+-----+\n",
            "|    Paris|     Food| 19.0|\n",
            "|Marsellie|Cloathing| 12.0|\n",
            "|    Paris|     Food|  8.0|\n",
            "|    Paris|Cloathing|  8.0|\n",
            "|Marsellie|     Food| 20.0|\n",
            "|     Lyon|     Book| 18.0|\n",
            "+---------+---------+-----+\n",
            "\n",
            "+---------+---------+-----+\n",
            "|     city|   f-type|price|\n",
            "+---------+---------+-----+\n",
            "|    Paris|     Food| 19.0|\n",
            "|Marsellie|Cloathing| 12.0|\n",
            "|    Paris|     Food|  8.0|\n",
            "|    Paris|Cloathing|  8.0|\n",
            "|Marsellie|     Food| 20.0|\n",
            "|     Lyon|     Book| 18.0|\n",
            "+---------+---------+-----+\n",
            "\n"
          ],
          "name": "stdout"
        }
      ]
    },
    {
      "cell_type": "code",
      "metadata": {
        "colab": {
          "base_uri": "https://localhost:8080/"
        },
        "id": "QnrpQ6pvEUBm",
        "outputId": "7bbefbbd-37f3-4e53-f7fc-fc7c3e9f1bfa"
      },
      "source": [
        "from pyspark.sql.functions import cos\n",
        "\n",
        "df = spark.createDataFrame([[1, 2],[2, 3],[3, 4],[4, 5]], schema=[\"x1\",\"x2\"])\n",
        "\n",
        "df.withColumn(\"cos_sum\", cos(df.x1 +df.x2)).show()"
      ],
      "execution_count": 96,
      "outputs": [
        {
          "output_type": "stream",
          "text": [
            "+---+---+-------------------+\n",
            "| x1| x2|            cos_sum|\n",
            "+---+---+-------------------+\n",
            "|  1|  2|-0.9899924966004454|\n",
            "|  2|  3|0.28366218546322625|\n",
            "|  3|  4| 0.7539022543433046|\n",
            "|  4|  5|-0.9111302618846769|\n",
            "+---+---+-------------------+\n",
            "\n"
          ],
          "name": "stdout"
        }
      ]
    },
    {
      "cell_type": "code",
      "metadata": {
        "id": "4i_4eFwwa-VO"
      },
      "source": [
        ""
      ],
      "execution_count": null,
      "outputs": []
    },
    {
      "cell_type": "code",
      "metadata": {
        "id": "sLsrMr6Ga-Ye"
      },
      "source": [
        ""
      ],
      "execution_count": null,
      "outputs": []
    },
    {
      "cell_type": "code",
      "metadata": {
        "id": "fT1xw0ZXa-bu"
      },
      "source": [
        ""
      ],
      "execution_count": null,
      "outputs": []
    }
  ]
}